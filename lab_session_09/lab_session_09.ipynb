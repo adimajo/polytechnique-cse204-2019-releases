{
 "cells": [
  {
   "cell_type": "markdown",
   "metadata": {},
   "source": [
    "Before you turn this problem in, make sure everything runs as expected. First, **restart the kernel** (in the menubar, select Kernel$\\rightarrow$Restart) and then **run all cells** (in the menubar, select Cell$\\rightarrow$Run All).\n",
    "\n",
    "Make sure you fill in any place that says `YOUR CODE HERE` or \"YOUR ANSWER HERE\", as well as your name and collaborators below:"
   ]
  },
  {
   "cell_type": "code",
   "execution_count": null,
   "metadata": {},
   "outputs": [],
   "source": [
    "NAME = \"\"\n",
    "COLLABORATORS = \"\""
   ]
  },
  {
   "cell_type": "markdown",
   "metadata": {},
   "source": [
    "---"
   ]
  },
  {
   "cell_type": "markdown",
   "metadata": {
    "colab_type": "text",
    "id": "rhy9pCfqnw0t"
   },
   "source": [
    "# CSE204 - Introduction to Machine Learning - Lab Session 9: Decision Trees and Ensemble Methods\n",
    "\n",
    "<img src=\"logo.jpg\" style=\"float: left; width: 15%\" />\n",
    "\n",
    "[CSE204-2019](https://moodle.polytechnique.fr/course/view.php?id=7862) Lab session #09\n",
    "\n",
    "J.B. Scoggins - Adrien Ehrhardt\n",
    "\n",
    "[![Open In Colab](https://colab.research.google.com/assets/colab-badge.svg)](https://colab.research.google.com/github/adimajo/polytechnique-cse204-2019/blob/master/lab_session_09.ipynb) \n",
    "\n",
    "[![Binder](https://mybinder.org/badge_logo.svg)](https://mybinder.org/v2/gh/adimajo/polytechnique-cse204-2019/blob/master/lab_session_09.ipynb)\n"
   ]
  },
  {
   "cell_type": "markdown",
   "metadata": {
    "colab_type": "text",
    "id": "8ZG8kCLq9by1"
   },
   "source": [
    "## Introduction\n",
    "\n",
    "In this lab you will learn how to use decision trees and ensemble methods to build a model that predicts the average price of houses for neighborhoods in the US state of California.  We will make heavy use of the following libraries to play with the dataset and build our models:\n",
    "\n",
    "- [Pandas](https://pandas.pydata.org/) - python data analysis library\n",
    "- [Scikit-learn](https://scikit-learn.org/stable/) - python machine learning library\n",
    "\n",
    "Recall from the lecture that decision trees can be a powerful way to generate cheap and efficient models for classification and regression.  Some of the advantages of decision trees over other models include:\n",
    "\n",
    "- They are easy to use, requiring little data preprocessing,\n",
    "- Can be easily interpreted,\n",
    "- Are useful for feature selection,\n",
    "- Fast to build and evaluate,\n",
    "- Non-linear.\n",
    "\n",
    "On the other hand, some of the disadvantages include:\n",
    "\n",
    "- Greedy tree building algorithms are not necessarily optimal (this is NP-complete),\n",
    "- The number of samples is logarithmic in tree depth,\n",
    "- Trees are unstable, meaning they can be easily perturbed with small differences in data,\n",
    "- Decision trees are excellent overfitters,\n",
    "- Since they only consider a single feature at a time, they have difficulty handling model additivity.\n",
    "\n",
    "Often, it decision trees can be poor classifiers or regressors.  However, because of their fast training speed, they can be used to generate ensemble models, such as random forests, with boosting and bagging.  We will play with some of these concepts during this lab in order to compare to basic decision tree performance.  Before we get started, let's import and load the different packages we will use.\n",
    "\n"
   ]
  },
  {
   "cell_type": "code",
   "execution_count": null,
   "metadata": {
    "colab": {},
    "colab_type": "code",
    "id": "V16HlR0yGw_0"
   },
   "outputs": [],
   "source": [
    "# Import required packages\n",
    "from __future__ import print_function\n",
    "import pandas as pd\n",
    "import numpy as np\n",
    "import matplotlib.pyplot as plt\n",
    "\n",
    "from sklearn.tree import DecisionTreeRegressor, export_graphviz\n",
    "from sklearn.metrics import mean_squared_error\n",
    "from sklearn.model_selection import train_test_split\n",
    "from sklearn.ensemble import BaggingRegressor, RandomForestRegressor, ExtraTreesRegressor, AdaBoostRegressor\n",
    "\n",
    "import graphviz\n",
    "\n",
    "# Setup pandas options\n",
    "pd.options.display.max_rows = 10\n",
    "pd.options.display.float_format = '{:.1f}'.format\n"
   ]
  },
  {
   "cell_type": "markdown",
   "metadata": {
    "colab_type": "text",
    "id": "KtZLwhEu9by7"
   },
   "source": [
    "## Introduction to Pandas\n",
    "\n",
    "As we will be using the Pandas library, it is important you remember the core functionality from your previous labs.\n",
    "If you want a quick Pandas refresher, you can follow a simple Pandas tutorial provided by the [Google Machine Learning Crash Course](https://developers.google.com/machine-learning/crash-course/).  If you are not familiar with this course, you may find it useful to supplement your lectures and labs during your free time.  [Spend the next few minutes going through the tutorial, if needed.](https://colab.research.google.com/notebooks/mlcc/intro_to_pandas.ipynb?utm_source=mlcc&utm_campaign=colab-external&utm_medium=referral&utm_content=pandas-colab&hl=en#scrollTo=TJffr5_Jwqvd)"
   ]
  },
  {
   "cell_type": "markdown",
   "metadata": {
    "colab_type": "text",
    "id": "miBPxAKV9by8"
   },
   "source": [
    "## Step 1: Get to know your dataset\n",
    "\n",
    "In this lab we will make use of the [California housing price dataset](https://developers.google.com/machine-learning/crash-course/california-housing-data-description).  This data was compiled from the 1990 census taken in California.  You can download the dataset with the Pandas code below."
   ]
  },
  {
   "cell_type": "code",
   "execution_count": null,
   "metadata": {
    "colab": {},
    "colab_type": "code",
    "id": "ef8J_Wjd9by9"
   },
   "outputs": [],
   "source": [
    "# Get the housing data\n",
    "housing_data = pd.read_csv(\n",
    "    \"https://download.mlcc.google.com/mledu-datasets/california_housing_train.csv\", sep=\",\")"
   ]
  },
  {
   "cell_type": "markdown",
   "metadata": {
    "colab_type": "text",
    "id": "2xF5HukS9bzB"
   },
   "source": [
    "As you are probably well aware at this point, one of the most important aspects of machine learning and data science is to first understand your dataset.  Whenever you are introduced to a new dataset, it is crucial that learn everything you can about the data to help inform your model building strategy.  The Pandas library is very useful for this purpose.\n",
    "\n",
    "**Exercise 1.1:** Using the describe() method to print information about the `housing_data` data frame and answer the following questions:\n",
    "\n",
    "1. How many features are in the dataset?\n",
    "2. How many samples are there?\n",
    "3. Do mean and standard deviations make sense for what you expect each variable to be?\n",
    "  - Are the latitude and longitude values consistent with California? (don't be afraid to check with Google maps)\n",
    "  - What do you think the units of `total_rooms` and `total_bedrooms` are?\n",
    "  - What about the `median_income`?\n",
    "4. Which feature are we likely to want to try and predict?\n",
    "5. Can you detect if there are any outliers in the data based on the minimum and maximum values?"
   ]
  },
  {
   "cell_type": "code",
   "execution_count": null,
   "metadata": {
    "colab": {},
    "colab_type": "code",
    "id": "NLnB_czl9bzD"
   },
   "outputs": [],
   "source": []
  },
  {
   "cell_type": "markdown",
   "metadata": {
    "colab_type": "text",
    "id": "jk_uB-Tl9bzG"
   },
   "source": [
    "**Exercise 1.2** From the previous question, it seems logical to think that the `total_rooms` and `total_bedrooms` are for an entire block, not a single house.  Let's check this assumption by creating two new variables called `rooms_per_person` and `bedrooms_per_person`."
   ]
  },
  {
   "cell_type": "code",
   "execution_count": null,
   "metadata": {
    "colab": {},
    "colab_type": "code",
    "id": "nLOJUhDI9bzH"
   },
   "outputs": [],
   "source": []
  },
  {
   "cell_type": "markdown",
   "metadata": {
    "colab_type": "text",
    "id": "Cct4S8by9bzL"
   },
   "source": [
    "**Exercise 1.3:** Get a visual feel for the data by plotting the median house value on a scatter plot versus longitude and latitude (use color for house value).  Compare with a map of california such as [this one](https://www.google.com/search?q=california+maps&client=firefox-b-d&tbm=isch&source=iu&ictx=1&fir=KnETshNcnsi1VM%253A%252CMK2MjhZw7xRERM%252C_&vet=1&usg=AI4_-kSz1S_ut8rli9wcyp0A12LG1aVofg&sa=X&ved=2ahUKEwju59vrxsDhAhXqyIUKHZAkBBgQ9QEwBXoECAgQDg#imgrc=KnETshNcnsi1VM:).  (Hint: normalize the median house value by the maximum.)\n",
    "\n",
    "- Does this make sense?\n",
    "- Where are the most expensive homes?"
   ]
  },
  {
   "cell_type": "code",
   "execution_count": null,
   "metadata": {
    "colab": {},
    "colab_type": "code",
    "id": "nXVJdl5O9bzM"
   },
   "outputs": [],
   "source": []
  },
  {
   "cell_type": "markdown",
   "metadata": {
    "colab_type": "text",
    "id": "3ykR6Bmm9bzQ"
   },
   "source": [
    "**Exercise 1.4:** Before building a model, let's build some expectation for what the important features are.  This will help us interpret our decision trees later on.  Use the `corr()` method from Pandas to build a correlation matrix.  Recall that a correlation matrix tells us how correlated any two features are.  For very positive values (close to 1.0), there is a strong correlation betwee the two features.  Likewise, for very negative values (close to -1.0), it means that the parameters are negatively correlated.  When the values are close to 0, there is no correlation.\n",
    "\n",
    "If you want a visual representation of the correlation matrix, you can plot it using the `imshow()` method from matplotlib.\n",
    "\n",
    "List which features (or groups of features) are strongly correlated (positive or negative)."
   ]
  },
  {
   "cell_type": "code",
   "execution_count": null,
   "metadata": {
    "colab": {},
    "colab_type": "code",
    "id": "aItoD9Wb9bzR"
   },
   "outputs": [],
   "source": []
  },
  {
   "cell_type": "markdown",
   "metadata": {
    "colab_type": "text",
    "id": "gw8MaLkt9bzV"
   },
   "source": [
    "**Exercise 1.5:** Use scatter plots to visualize the correlations between the groups you identified."
   ]
  },
  {
   "cell_type": "code",
   "execution_count": null,
   "metadata": {
    "colab": {},
    "colab_type": "code",
    "id": "WaazH5Yv9bzW"
   },
   "outputs": [],
   "source": []
  },
  {
   "cell_type": "markdown",
   "metadata": {
    "colab_type": "text",
    "id": "fzR5_roR9bzc"
   },
   "source": [
    "**Exercise 1.6:** Notice anything strange about the scatter plot with `median_house_value`?  What's going here?  Use a histogram to get an idea of the distribution of this feature. \n",
    "\n",
    "- What does the histogram tell us about the distribution?\n",
    "- What could this mean about how the data was collected or processed to build the database?"
   ]
  },
  {
   "cell_type": "markdown",
   "metadata": {
    "colab_type": "text",
    "id": "qzY2OlqgnkKQ"
   },
   "source": []
  },
  {
   "cell_type": "markdown",
   "metadata": {
    "colab_type": "text",
    "id": "vY-rs_nK9bzg"
   },
   "source": [
    "## Step 2: Train a simple decision tree to predict median house values\n",
    "\n",
    "At this point we have pretty good idea about our dataset.  Let's try and create a simple model based on a decision tree.\n",
    "\n",
    "**Exercise 2.1:** Split the dataset into a training and validation set.  Use the [`train_test_split()`](https://scikit-learn.org/stable/modules/generated/sklearn.model_selection.train_test_split.html) function from Scikit-learn with `shuffle` set to `False`.  Check that the reduced datasets make sense with the `describe()` function."
   ]
  },
  {
   "cell_type": "code",
   "execution_count": null,
   "metadata": {
    "colab": {},
    "colab_type": "code",
    "id": "3MrsXBsg9bzi"
   },
   "outputs": [],
   "source": []
  },
  {
   "cell_type": "markdown",
   "metadata": {
    "colab_type": "text",
    "id": "S9GEIN_k9bzl"
   },
   "source": [
    "**Exercise 2.2:** As a second check, redo the scatter plot from Exercise 1.3 for both the training and testing subsets.  \n",
    "\n",
    "- Is this what you expected?  \n",
    "- What went wrong?\n",
    "\n",
    "This is an important lesson.  In all of our dataset checking from Exercise 1, we didn't get a feel for the ordering of the data.  Ideally, we want our validation and training data to be identically distributed, however we did not take into account that the dataset has a clear ordering.  Normally, the `train_test_split()` defaults to shuffle our data for us to avoid such issues but we have turned this off.  Go ahead and set `shuffle` to `True` above and rerun the cell and your scatter plots below to verify this fixes the problem."
   ]
  },
  {
   "cell_type": "code",
   "execution_count": null,
   "metadata": {
    "colab": {},
    "colab_type": "code",
    "id": "x8BIZLjB9bzm"
   },
   "outputs": [],
   "source": []
  },
  {
   "cell_type": "markdown",
   "metadata": {
    "colab_type": "text",
    "id": "aaOwZY5S9bzo"
   },
   "source": [
    "**Exercise 2.3:** Use the `DecisionTreeRegressor` from Scikit-learn to create a new decision tree model with a depth of 3 and train it on the training dataset using the `fit()` method.  You can find the API for DecisionTreeRegressor [here](https://scikit-learn.org/stable/modules/generated/sklearn.tree.DecisionTreeRegressor.html)."
   ]
  },
  {
   "cell_type": "code",
   "execution_count": null,
   "metadata": {
    "colab": {},
    "colab_type": "code",
    "id": "Nj9skxw-9bzp"
   },
   "outputs": [],
   "source": []
  },
  {
   "cell_type": "markdown",
   "metadata": {
    "colab_type": "text",
    "id": "WyEIFnm69bzq"
   },
   "source": [
    "**Exercise 2.4:** Let's get a sense of how well the tree fits the data.  Use the tree's `predict` method on the testing features to get a prediction for the testing dataset.  Compute the mean squared error using the `mean_squared_error()` function from Scikit-learn.  Also, plot a scatter plot of the predicted median house values versus the testing target values. \n",
    "\n",
    "- Is the prediction good?\n",
    "- What does the scatter plot look like?\n",
    "- How many unique values are there in our predictions? Why is this?"
   ]
  },
  {
   "cell_type": "code",
   "execution_count": null,
   "metadata": {
    "colab": {},
    "colab_type": "code",
    "id": "ENd-nNFM9bzs"
   },
   "outputs": [],
   "source": []
  },
  {
   "cell_type": "markdown",
   "metadata": {
    "colab_type": "text",
    "id": "xxl2_P2I9bzu"
   },
   "source": [
    "**Exercise 2.5** You can visualize the trained decision tree with the following code.  As stated in the beginning, one advantage of such trees is that they are easily interpretible with graphs like this one.  \n",
    "\n",
    "- What are the main features used in the tree?\n",
    "- How do these compare to features you identified in Exercise 1.4?"
   ]
  },
  {
   "cell_type": "code",
   "execution_count": null,
   "metadata": {
    "colab": {},
    "colab_type": "code",
    "id": "kYs98IPp9bzv"
   },
   "outputs": [],
   "source": [
    "# Note, you may need to change 'model' to your tree's name\n",
    "dot_data = export_graphviz(\n",
    "    model, out_file=None, feature_names=list(training_features), filled=True, \n",
    "    rounded=True, special_characters=True)\n",
    "graph = graphviz.Source(dot_data) \n",
    "graph "
   ]
  },
  {
   "cell_type": "markdown",
   "metadata": {
    "colab_type": "text",
    "id": "GCyx0VRE9bzw"
   },
   "source": [
    "**Exercise 2.6** Repeat 2.3 and 2.4 for different values of the maximum tree-depth.\n",
    "\n",
    "- How does the fit improve with increasing depth?\n",
    "\n",
    "Note that you can try visualizing the tree with larger depth values, but it becomes difficult as the tree grows."
   ]
  },
  {
   "cell_type": "markdown",
   "metadata": {
    "colab_type": "text",
    "id": "WllPBU6B9bzx"
   },
   "source": [
    "## Step 3: Ensemble methods\n",
    "\n",
    "We have seen that a single decision tree is not a very good estimator.  We can improve our predictions using a number of ensemble techniques such as bagging, random forests, and boosting.  Using Scikit-learn, it is easy to try all of these models.  Here are the main classes that we will test:\n",
    "\n",
    "- [BaggingRegressor](https://scikit-learn.org/stable/modules/generated/sklearn.ensemble.BaggingRegressor.html#sklearn.ensemble.BaggingRegressor)\n",
    "- [RandomForestRegressor](https://scikit-learn.org/stable/modules/generated/sklearn.ensemble.RandomForestRegressor.html)\n",
    "- [ExtraTreesRegressor](https://scikit-learn.org/stable/modules/generated/sklearn.ensemble.ExtraTreesRegressor.html)\n",
    "- [AdaBoostRegressor](https://scikit-learn.org/stable/modules/generated/sklearn.ensemble.AdaBoostRegressor.html)\n",
    "\n",
    "Follow each link to read about the details of each method.  You may also want to revisit the lecture notes on ensemble methods for a quick refresher of these terms.  In the following exercises you will train each type of regressor using a max_depth of 10 layers and test their prediction accuracy.  Finally, you can perform a hyperparameter study to try and find the optimal model/parameter pair which minimizes the MSE on the testing dataset."
   ]
  },
  {
   "cell_type": "markdown",
   "metadata": {
    "colab_type": "text",
    "id": "B8puJOxH9bzy"
   },
   "source": [
    "**Exercise 3.1:** Create and fit a bagging regressor based on decision trees with a max depth of 10 using 100 trees, and maximum samples and features of 50%.  Compute the MSE on the testing dataset and compare the true median house values with the predictions using a scatter plot."
   ]
  },
  {
   "cell_type": "code",
   "execution_count": null,
   "metadata": {
    "colab": {},
    "colab_type": "code",
    "id": "kCoU1eHv9bzz"
   },
   "outputs": [],
   "source": []
  },
  {
   "cell_type": "markdown",
   "metadata": {
    "colab_type": "text",
    "id": "TvzZDoK29bz2"
   },
   "source": [
    "**Exercise 3.2:** Create and fit a random forest regressor with a max depth of 10.  Compute the MSE on the testing dataset and compare the true median house values with the predictions using a scatter plot."
   ]
  },
  {
   "cell_type": "code",
   "execution_count": null,
   "metadata": {
    "colab": {},
    "colab_type": "code",
    "id": "1WkEhRE79bz2"
   },
   "outputs": [],
   "source": []
  },
  {
   "cell_type": "markdown",
   "metadata": {
    "colab_type": "text",
    "id": "6LRNQvxP9bz4"
   },
   "source": [
    "**Exercise 3.3:** Create and fit an extremely randomized trees regressor (ExtraTreesRegressor) with a max depth of 10.  Compute the MSE on the testing dataset and compare the true median house values with the predictions using a scatter plot."
   ]
  },
  {
   "cell_type": "code",
   "execution_count": null,
   "metadata": {
    "colab": {},
    "colab_type": "code",
    "id": "JvRCKFjo9bz5"
   },
   "outputs": [],
   "source": []
  },
  {
   "cell_type": "markdown",
   "metadata": {
    "colab_type": "text",
    "id": "PRjMfVoi9bz_"
   },
   "source": [
    "**Exercise 3.4:** Create and fit a tree ensemble regressor with boosting (AdaBoostRegressor) with a max depth of 10.  Compute the MSE on the testing dataset and compare the true median house values with the predictions using a scatter plot."
   ]
  },
  {
   "cell_type": "code",
   "execution_count": null,
   "metadata": {
    "colab": {},
    "colab_type": "code",
    "id": "4RU2MD-89b0A"
   },
   "outputs": [],
   "source": []
  },
  {
   "cell_type": "markdown",
   "metadata": {
    "colab_type": "text",
    "id": "8PnmD7b89b0E"
   },
   "source": [
    "**Exercise 3.5:** Plot the MSE for each of the four ensemble methods above versus the maximum depth used (from 2 to 20).\n",
    "\n",
    "- At what maximum depth do the different methods more or less converge?\n",
    "- Which is the best method in terms of minimum MSE obtained?"
   ]
  },
  {
   "cell_type": "code",
   "execution_count": null,
   "metadata": {
    "colab": {},
    "colab_type": "code",
    "id": "oucz3-sd9b0F"
   },
   "outputs": [],
   "source": [
    "# Generate MSE data"
   ]
  },
  {
   "cell_type": "code",
   "execution_count": null,
   "metadata": {
    "colab": {},
    "colab_type": "code",
    "id": "UtvHUYiZ9b0H"
   },
   "outputs": [],
   "source": [
    "# Plot MSE curves for each model on a single plot"
   ]
  },
  {
   "cell_type": "markdown",
   "metadata": {
    "colab_type": "text",
    "id": "MUb-qv2i9b0K"
   },
   "source": [
    "## Conclusions\n",
    "\n",
    "That's it for this lab!  Note there are still several ways you can try and improve the regression.  It might even be worth trying to use an entirely different model such as a neural network to see if you can obtain better performance.  Over time, you will build up an intuition for which models might work best on different datasets.  \n",
    "\n",
    "If you want more practice with trees and ensemble methods, checkout the Iris dataset below which is a classification problem.  You can use everything you learned here by replacing \"Regressor\" with \"Classifier\".  Happy coding!"
   ]
  },
  {
   "cell_type": "code",
   "execution_count": null,
   "metadata": {
    "colab": {},
    "colab_type": "code",
    "id": "te2SI3mG9b0L"
   },
   "outputs": [],
   "source": [
    "from sklearn import datasets\n",
    "iris = datasets.load_iris()"
   ]
  }
 ],
 "metadata": {
  "colab": {
   "collapsed_sections": [],
   "name": "Copie de Untitled0.ipynb",
   "provenance": [
    {
     "file_id": "https://github.com/jbscoggi/teaching/blob/master/Polytechnique/CSE204/Lab9.ipynb",
     "timestamp": 1576227393089
    }
   ]
  },
  "kernelspec": {
   "display_name": "Python 3",
   "language": "python",
   "name": "python3"
  },
  "language_info": {
   "codemirror_mode": {
    "name": "ipython",
    "version": 3
   },
   "file_extension": ".py",
   "mimetype": "text/x-python",
   "name": "python",
   "nbconvert_exporter": "python",
   "pygments_lexer": "ipython3",
   "version": "3.7.5"
  }
 },
 "nbformat": 4,
 "nbformat_minor": 4
}
