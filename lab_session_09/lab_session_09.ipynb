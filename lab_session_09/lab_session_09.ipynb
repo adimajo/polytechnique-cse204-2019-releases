{
 "cells": [
  {
   "cell_type": "markdown",
   "metadata": {},
   "source": [
    "Before you turn this problem in, make sure everything runs as expected. First, **restart the kernel** (in the menubar, select Kernel$\\rightarrow$Restart) and then **run all cells** (in the menubar, select Cell$\\rightarrow$Run All).\n",
    "\n",
    "Make sure you fill in any place that says `YOUR CODE HERE` or \"YOUR ANSWER HERE\", as well as your name and collaborators below:"
   ]
  },
  {
   "cell_type": "code",
   "execution_count": null,
   "metadata": {},
   "outputs": [],
   "source": [
    "NAME = \"\"\n",
    "COLLABORATORS = \"\""
   ]
  },
  {
   "cell_type": "markdown",
   "metadata": {},
   "source": [
    "---"
   ]
  },
  {
   "cell_type": "markdown",
   "metadata": {
    "colab_type": "text",
    "deletable": false,
    "editable": false,
    "id": "rhy9pCfqnw0t",
    "nbgrader": {
     "cell_type": "markdown",
     "checksum": "94f9bd36494ac5a4439c3e3c75856924",
     "grade": false,
     "grade_id": "cell-86ed8cbc1e5585ec",
     "locked": true,
     "schema_version": 3,
     "solution": false,
     "task": false
    }
   },
   "source": [
    "# CSE204 - Introduction to Machine Learning - Lab Session 9: Decision Trees and Ensemble Methods\n",
    "\n",
    "<img src=\"https://raw.githubusercontent.com/adimajo/polytechnique-cse204-2019-releases/master/logo.jpg\" style=\"float: left; width: 15%\" />\n",
    "\n",
    "[CSE204-2019](https://moodle.polytechnique.fr/course/view.php?id=7862) Lab session #09\n",
    "\n",
    "J.B. Scoggins - Adrien Ehrhardt"
   ]
  },
  {
   "cell_type": "markdown",
   "metadata": {
    "deletable": false,
    "editable": false,
    "nbgrader": {
     "cell_type": "markdown",
     "checksum": "ffa80f673b626c874f524ef6f39f89a6",
     "grade": false,
     "grade_id": "cell-77d3e868692faa7e",
     "locked": true,
     "schema_version": 3,
     "solution": false,
     "task": false
    }
   },
   "source": [
    "[![Open in Google Colab](https://colab.research.google.com/assets/colab-badge.svg)](https://colab.research.google.com/github/adimajo/polytechnique-cse204-2019-releases/blob/master/lab_session_09/lab_session_09.ipynb)\n",
    "\n",
    "[![My Binder](https://mybinder.org/badge_logo.svg)](https://mybinder.org/v2/gh/adimajo/polytechnique-cse204-2019-releases/master?filepath=lab_session_09%2Flab_session_09.ipynb)\n",
    "\n",
    "[![Local](https://img.shields.io/badge/Local-Save%20As...-blue)](https://github.com/adimajo/polytechnique-cse204-2019-releases/raw/master/lab_session_09/lab_session_09.ipynb)"
   ]
  },
  {
   "cell_type": "markdown",
   "metadata": {
    "colab_type": "text",
    "deletable": false,
    "editable": false,
    "id": "8ZG8kCLq9by1",
    "nbgrader": {
     "cell_type": "markdown",
     "checksum": "cd98c1a3d3e31494623503093ddae00c",
     "grade": false,
     "grade_id": "cell-28d1ca2967915c6e",
     "locked": true,
     "schema_version": 3,
     "solution": false,
     "task": false
    }
   },
   "source": [
    "## Introduction\n",
    "\n",
    "In this lab you will learn how to use decision trees and ensemble methods to build a model that predicts the average price of houses for neighborhoods in the US state of California.  We will make heavy use of the following libraries to play with the dataset and build our models:\n",
    "\n",
    "- [Pandas](https://pandas.pydata.org/) - python data analysis library\n",
    "- [Scikit-learn](https://scikit-learn.org/stable/) - python machine learning library\n",
    "\n",
    "Recall from the lecture that decision trees can be a powerful way to generate cheap and efficient models for classification and regression.  Some of the advantages of decision trees over other models include:\n",
    "\n",
    "- They are easy to use, requiring little data preprocessing,\n",
    "- Can be easily interpreted,\n",
    "- Are useful for feature selection,\n",
    "- Fast to build and evaluate,\n",
    "- Non-linear.\n",
    "\n",
    "On the other hand, some of the disadvantages include:\n",
    "\n",
    "- Greedy tree building algorithms are not necessarily optimal (this is NP-complete),\n",
    "- The number of samples is logarithmic in tree depth,\n",
    "- Trees are unstable, meaning they can be easily perturbed with small differences in data,\n",
    "- Decision trees are excellent overfitters,\n",
    "- Since they only consider a single feature at a time, they have difficulty handling model additivity.\n",
    "\n",
    "Often, it decision trees can be poor classifiers or regressors.  However, because of their fast training speed, they can be used to generate ensemble models, such as random forests, with boosting and bagging.  We will play with some of these concepts during this lab in order to compare to basic decision tree performance.  Before we get started, let's import and load the different packages we will use.\n",
    "\n"
   ]
  },
  {
   "cell_type": "code",
   "execution_count": null,
   "metadata": {
    "deletable": false,
    "editable": false,
    "nbgrader": {
     "cell_type": "code",
     "checksum": "ce05fbe5783ef6bf96bd0b151267af52",
     "grade": false,
     "grade_id": "cell-4876e3326bd0b8f1",
     "locked": true,
     "schema_version": 3,
     "solution": false,
     "task": false
    }
   },
   "outputs": [],
   "source": [
    "colab_requirements = [\n",
    "    \"matplotlib>=3.1.2\",\n",
    "    \"pandas>=0.25.3\",\n",
    "    \"numpy>=1.18.1\",\n",
    "    \"scikit-learn>=0.22.1\",\n",
    "    \"nose>=1.3.7\",\n",
    "    \"graphviz>=0.13.2\"\n",
    "]\n",
    "import sys, subprocess\n",
    "def run_subprocess_command(cmd):\n",
    "    # run the command\n",
    "    process = subprocess.Popen(cmd.split(), stdout=subprocess.PIPE)\n",
    "    # print the output\n",
    "    for line in process.stdout:\n",
    "        print(line.decode().strip())\n",
    "        \n",
    "if \"google.colab\" in sys.modules:\n",
    "    for i in colab_requirements:\n",
    "        run_subprocess_command(\"pip install \" + i)"
   ]
  },
  {
   "cell_type": "code",
   "execution_count": null,
   "metadata": {
    "colab": {},
    "colab_type": "code",
    "deletable": false,
    "editable": false,
    "id": "V16HlR0yGw_0",
    "nbgrader": {
     "cell_type": "code",
     "checksum": "29d9d762243277ccc157e7a97f28aef2",
     "grade": false,
     "grade_id": "cell-a6a7d4b846039553",
     "locked": true,
     "schema_version": 3,
     "solution": false,
     "task": false
    }
   },
   "outputs": [],
   "source": [
    "# Import required packages\n",
    "from __future__ import print_function\n",
    "import pandas as pd\n",
    "import numpy as np\n",
    "import matplotlib.pyplot as plt\n",
    "\n",
    "from sklearn.tree import DecisionTreeRegressor, export_graphviz\n",
    "from sklearn.metrics import mean_squared_error\n",
    "from sklearn.model_selection import train_test_split\n",
    "from sklearn.ensemble import BaggingRegressor, RandomForestRegressor, ExtraTreesRegressor, AdaBoostRegressor\n",
    "\n",
    "import graphviz\n",
    "\n",
    "# Setup pandas options\n",
    "pd.options.display.max_rows = 10\n",
    "pd.options.display.float_format = '{:.1f}'.format\n"
   ]
  },
  {
   "cell_type": "markdown",
   "metadata": {
    "colab_type": "text",
    "deletable": false,
    "editable": false,
    "id": "KtZLwhEu9by7",
    "nbgrader": {
     "cell_type": "markdown",
     "checksum": "1319bf6da76cb3820ff2e30499f886c7",
     "grade": false,
     "grade_id": "cell-7ce2a339a2e6d589",
     "locked": true,
     "schema_version": 3,
     "solution": false,
     "task": false
    }
   },
   "source": [
    "## Introduction to Pandas\n",
    "\n",
    "As we will be using the Pandas library, it is important you remember the core functionality from your previous labs.\n",
    "If you want a quick Pandas refresher, you can follow a simple Pandas tutorial provided by the [Google Machine Learning Crash Course](https://developers.google.com/machine-learning/crash-course/).  If you are not familiar with this course, you may find it useful to supplement your lectures and labs during your free time.  [Spend the next few minutes going through the tutorial, if needed.](https://colab.research.google.com/notebooks/mlcc/intro_to_pandas.ipynb?utm_source=mlcc&utm_campaign=colab-external&utm_medium=referral&utm_content=pandas-colab&hl=en#scrollTo=TJffr5_Jwqvd)"
   ]
  },
  {
   "cell_type": "markdown",
   "metadata": {
    "colab_type": "text",
    "deletable": false,
    "editable": false,
    "id": "miBPxAKV9by8",
    "nbgrader": {
     "cell_type": "markdown",
     "checksum": "323fc8099e93647b4190ec025d8673f6",
     "grade": false,
     "grade_id": "cell-80246dff0cb7c04c",
     "locked": true,
     "schema_version": 3,
     "solution": false,
     "task": false
    }
   },
   "source": [
    "## Step 1: Get to know your dataset\n",
    "\n",
    "In this lab we will make use of the [California housing price dataset](https://developers.google.com/machine-learning/crash-course/california-housing-data-description).  This data was compiled from the 1990 census taken in California.  You can download the dataset with the Pandas code below."
   ]
  },
  {
   "cell_type": "code",
   "execution_count": null,
   "metadata": {
    "colab": {},
    "colab_type": "code",
    "deletable": false,
    "editable": false,
    "id": "ef8J_Wjd9by9",
    "nbgrader": {
     "cell_type": "code",
     "checksum": "7d20a881bb5aaedbd54fef089fd0a60a",
     "grade": false,
     "grade_id": "cell-b2b1b182d7c0e587",
     "locked": true,
     "schema_version": 3,
     "solution": false,
     "task": false
    }
   },
   "outputs": [],
   "source": [
    "# Get the housing data\n",
    "housing_data = pd.read_csv(\n",
    "    \"https://download.mlcc.google.com/mledu-datasets/california_housing_train.csv\", sep=\",\")"
   ]
  },
  {
   "cell_type": "markdown",
   "metadata": {
    "colab_type": "text",
    "deletable": false,
    "editable": false,
    "id": "2xF5HukS9bzB",
    "nbgrader": {
     "cell_type": "markdown",
     "checksum": "970c6fb461ce514f8a0d662dc2156439",
     "grade": false,
     "grade_id": "cell-6347572dd59f7a27",
     "locked": true,
     "schema_version": 3,
     "solution": false,
     "task": false
    }
   },
   "source": [
    "As you are probably well aware at this point, one of the most important aspects of machine learning and data science is to first understand your dataset.  Whenever you are introduced to a new dataset, it is crucial that learn everything you can about the data to help inform your model building strategy.  The Pandas library is very useful for this purpose.\n",
    "\n",
    "**Exercise 1.1:** Using the describe() method to print information about the `housing_data` data frame and answer the following questions:"
   ]
  },
  {
   "cell_type": "code",
   "execution_count": null,
   "metadata": {
    "colab": {},
    "colab_type": "code",
    "deletable": false,
    "id": "NLnB_czl9bzD",
    "nbgrader": {
     "cell_type": "code",
     "checksum": "0b1ad7fde5d49546fafb7ce8ec754b4c",
     "grade": false,
     "grade_id": "cell-d714c328450a0e4c",
     "locked": false,
     "schema_version": 3,
     "solution": true,
     "task": false
    }
   },
   "outputs": [],
   "source": [
    "# YOUR CODE HERE\n",
    "raise NotImplementedError()"
   ]
  },
  {
   "cell_type": "markdown",
   "metadata": {
    "deletable": false,
    "editable": false,
    "nbgrader": {
     "cell_type": "markdown",
     "checksum": "5730fa3c26e8b323301d21b1d34cd9b1",
     "grade": false,
     "grade_id": "cell-98f3558baa9d60fc",
     "locked": true,
     "schema_version": 3,
     "solution": false,
     "task": false
    }
   },
   "source": [
    "1. How many features are in the dataset?"
   ]
  },
  {
   "cell_type": "markdown",
   "metadata": {
    "deletable": false,
    "nbgrader": {
     "cell_type": "markdown",
     "checksum": "8b74d72f5a69aa6fd4b014dc7d7f39dd",
     "grade": true,
     "grade_id": "cell-b9c596ec8b5866da",
     "locked": false,
     "points": 0,
     "schema_version": 3,
     "solution": true,
     "task": false
    }
   },
   "source": [
    "YOUR ANSWER HERE"
   ]
  },
  {
   "cell_type": "markdown",
   "metadata": {
    "deletable": false,
    "editable": false,
    "nbgrader": {
     "cell_type": "markdown",
     "checksum": "6be63cc7b319a4d45d830bf06f831023",
     "grade": false,
     "grade_id": "cell-a8d0ff72a942c281",
     "locked": true,
     "schema_version": 3,
     "solution": false,
     "task": false
    }
   },
   "source": [
    "2. How many samples are there?"
   ]
  },
  {
   "cell_type": "markdown",
   "metadata": {
    "deletable": false,
    "nbgrader": {
     "cell_type": "markdown",
     "checksum": "11934ee7859962a4334344fafa2cde97",
     "grade": true,
     "grade_id": "cell-92f189c6f5afb327",
     "locked": false,
     "points": 0,
     "schema_version": 3,
     "solution": true,
     "task": false
    }
   },
   "source": [
    "YOUR ANSWER HERE"
   ]
  },
  {
   "cell_type": "markdown",
   "metadata": {
    "deletable": false,
    "editable": false,
    "nbgrader": {
     "cell_type": "markdown",
     "checksum": "0e2390ad5c2bf8fb2c73d9bc2344084b",
     "grade": false,
     "grade_id": "cell-5288743a85ad2b68",
     "locked": true,
     "schema_version": 3,
     "solution": false,
     "task": false
    }
   },
   "source": [
    "3. Do mean and standard deviations make sense for what you expect each variable to be?\n",
    "  - Are the latitude and longitude values consistent with California? (don't be afraid to check with Google maps)\n",
    "  - What do you think the units of `total_rooms` and `total_bedrooms` are?\n",
    "  - What about the `median_income`?"
   ]
  },
  {
   "cell_type": "markdown",
   "metadata": {
    "deletable": false,
    "nbgrader": {
     "cell_type": "markdown",
     "checksum": "5222d32a6d29e5a69fe92ac2ced457c5",
     "grade": true,
     "grade_id": "cell-3610ef4b7b3dc32a",
     "locked": false,
     "points": 0,
     "schema_version": 3,
     "solution": true,
     "task": false
    }
   },
   "source": [
    "YOUR ANSWER HERE"
   ]
  },
  {
   "cell_type": "markdown",
   "metadata": {
    "deletable": false,
    "editable": false,
    "nbgrader": {
     "cell_type": "markdown",
     "checksum": "b7545b6f0fdacac10216a81e5ece06d9",
     "grade": false,
     "grade_id": "cell-ed08c820282b3e22",
     "locked": true,
     "schema_version": 3,
     "solution": false,
     "task": false
    }
   },
   "source": [
    "4. Which feature are we likely to want to try and predict?"
   ]
  },
  {
   "cell_type": "markdown",
   "metadata": {
    "deletable": false,
    "nbgrader": {
     "cell_type": "markdown",
     "checksum": "ce9318ff0b3a3a81c3038595f1c36278",
     "grade": true,
     "grade_id": "cell-2722352794f3d780",
     "locked": false,
     "points": 0,
     "schema_version": 3,
     "solution": true,
     "task": false
    }
   },
   "source": [
    "YOUR ANSWER HERE"
   ]
  },
  {
   "cell_type": "markdown",
   "metadata": {
    "deletable": false,
    "editable": false,
    "nbgrader": {
     "cell_type": "markdown",
     "checksum": "541fb801db74b4ff0cfe5869d7a5556a",
     "grade": false,
     "grade_id": "cell-2bc290ee0a28e98d",
     "locked": true,
     "schema_version": 3,
     "solution": false,
     "task": false
    }
   },
   "source": [
    "5. Can you detect if there are any outliers in the data based on the minimum and maximum values?"
   ]
  },
  {
   "cell_type": "markdown",
   "metadata": {
    "deletable": false,
    "nbgrader": {
     "cell_type": "markdown",
     "checksum": "28dd197e2bae3a1f71c1939a84daaadb",
     "grade": true,
     "grade_id": "cell-add92a8d638580d7",
     "locked": false,
     "points": 0,
     "schema_version": 3,
     "solution": true,
     "task": false
    }
   },
   "source": [
    "YOUR ANSWER HERE"
   ]
  },
  {
   "cell_type": "markdown",
   "metadata": {
    "colab_type": "text",
    "deletable": false,
    "editable": false,
    "id": "jk_uB-Tl9bzG",
    "nbgrader": {
     "cell_type": "markdown",
     "checksum": "331a6684c519abac272ada10a8aa09d9",
     "grade": false,
     "grade_id": "cell-9034247840914557",
     "locked": true,
     "schema_version": 3,
     "solution": false,
     "task": false
    }
   },
   "source": [
    "**Exercise 1.2** From the previous question, it seems logical to think that the `total_rooms` and `total_bedrooms` are for an entire block, not a single house.  Let's check this assumption by creating two new variables called `rooms_per_person` and `bedrooms_per_person`."
   ]
  },
  {
   "cell_type": "code",
   "execution_count": null,
   "metadata": {
    "colab": {},
    "colab_type": "code",
    "deletable": false,
    "id": "nLOJUhDI9bzH",
    "nbgrader": {
     "cell_type": "code",
     "checksum": "1b1d620ee5128bcfd0ed6d1a7ded04b3",
     "grade": true,
     "grade_id": "cell-61e0683f0aa534e3",
     "locked": false,
     "points": 0,
     "schema_version": 3,
     "solution": true,
     "task": false
    }
   },
   "outputs": [],
   "source": [
    "# YOUR CODE HERE\n",
    "raise NotImplementedError()"
   ]
  },
  {
   "cell_type": "markdown",
   "metadata": {
    "colab_type": "text",
    "deletable": false,
    "editable": false,
    "id": "Cct4S8by9bzL",
    "nbgrader": {
     "cell_type": "markdown",
     "checksum": "631743a54cb7e026e22dcb063193d19e",
     "grade": false,
     "grade_id": "cell-744ec0bf2d2cb3f7",
     "locked": true,
     "schema_version": 3,
     "solution": false,
     "task": false
    }
   },
   "source": [
    "**Exercise 1.3:** Get a visual feel for the data by plotting the median house value on a scatter plot versus longitude and latitude (use color for house value).  Compare with a map of california such as [this one](https://www.google.com/search?q=california+maps&client=firefox-b-d&tbm=isch&source=iu&ictx=1&fir=KnETshNcnsi1VM%253A%252CMK2MjhZw7xRERM%252C_&vet=1&usg=AI4_-kSz1S_ut8rli9wcyp0A12LG1aVofg&sa=X&ved=2ahUKEwju59vrxsDhAhXqyIUKHZAkBBgQ9QEwBXoECAgQDg#imgrc=KnETshNcnsi1VM:).  (Hint: normalize the median house value by the maximum.)\n",
    "\n",
    "- Does this make sense?\n",
    "- Where are the most expensive homes?"
   ]
  },
  {
   "cell_type": "code",
   "execution_count": null,
   "metadata": {
    "colab": {},
    "colab_type": "code",
    "deletable": false,
    "id": "nXVJdl5O9bzM",
    "nbgrader": {
     "cell_type": "code",
     "checksum": "b5eacc1a176eed184142cd89238eb887",
     "grade": true,
     "grade_id": "cell-36d1ebb900c2aee0",
     "locked": false,
     "points": 0,
     "schema_version": 3,
     "solution": true,
     "task": false
    }
   },
   "outputs": [],
   "source": [
    "# YOUR CODE HERE\n",
    "raise NotImplementedError()"
   ]
  },
  {
   "cell_type": "markdown",
   "metadata": {
    "colab_type": "text",
    "deletable": false,
    "editable": false,
    "id": "3ykR6Bmm9bzQ",
    "nbgrader": {
     "cell_type": "markdown",
     "checksum": "0b319fa4c20945681a0a7879c2fdc6de",
     "grade": false,
     "grade_id": "cell-daebcc74f789a213",
     "locked": true,
     "schema_version": 3,
     "solution": false,
     "task": false
    }
   },
   "source": [
    "**Exercise 1.4:** Before building a model, let's build some expectation for what the important features are.  This will help us interpret our decision trees later on.  Use the `corr()` method from Pandas to build a correlation matrix.  Recall that a correlation matrix tells us how correlated any two features are.  For very positive values (close to 1.0), there is a strong correlation betwee the two features.  Likewise, for very negative values (close to -1.0), it means that the parameters are negatively correlated.  When the values are close to 0, there is no correlation.\n",
    "\n",
    "If you want a visual representation of the correlation matrix, you can plot it using the `imshow()` method from matplotlib.\n",
    "\n",
    "List which features (or groups of features) are strongly correlated (positive or negative)."
   ]
  },
  {
   "cell_type": "code",
   "execution_count": null,
   "metadata": {
    "colab": {},
    "colab_type": "code",
    "deletable": false,
    "id": "aItoD9Wb9bzR",
    "nbgrader": {
     "cell_type": "code",
     "checksum": "643af79782a826478251a5ec2baacde3",
     "grade": true,
     "grade_id": "cell-a808c77126c000dc",
     "locked": false,
     "points": 0,
     "schema_version": 3,
     "solution": true,
     "task": false
    }
   },
   "outputs": [],
   "source": [
    "# YOUR CODE HERE\n",
    "raise NotImplementedError()"
   ]
  },
  {
   "cell_type": "markdown",
   "metadata": {
    "colab_type": "text",
    "deletable": false,
    "editable": false,
    "id": "gw8MaLkt9bzV",
    "nbgrader": {
     "cell_type": "markdown",
     "checksum": "674546649d739ef9c1f797b97ce42c25",
     "grade": false,
     "grade_id": "cell-fa34693a34c99f6c",
     "locked": true,
     "schema_version": 3,
     "solution": false,
     "task": false
    }
   },
   "source": [
    "**Exercise 1.5:** Use scatter plots to visualize the correlations between the groups you identified."
   ]
  },
  {
   "cell_type": "code",
   "execution_count": null,
   "metadata": {
    "colab": {},
    "colab_type": "code",
    "deletable": false,
    "id": "WaazH5Yv9bzW",
    "nbgrader": {
     "cell_type": "code",
     "checksum": "36cb5ac440d1f6fd0a5bc62c7f1e8c72",
     "grade": true,
     "grade_id": "cell-b5edf9ea0ca36149",
     "locked": false,
     "points": 0,
     "schema_version": 3,
     "solution": true,
     "task": false
    }
   },
   "outputs": [],
   "source": [
    "# YOUR CODE HERE\n",
    "raise NotImplementedError()"
   ]
  },
  {
   "cell_type": "markdown",
   "metadata": {
    "colab_type": "text",
    "deletable": false,
    "editable": false,
    "id": "fzR5_roR9bzc",
    "nbgrader": {
     "cell_type": "markdown",
     "checksum": "ee37327840771a15667722c66e00a09c",
     "grade": false,
     "grade_id": "cell-6e2a8d868e420ed5",
     "locked": true,
     "schema_version": 3,
     "solution": false,
     "task": false
    }
   },
   "source": [
    "**Exercise 1.6:** Notice anything strange about the scatter plot with `median_house_value`?  What's going here?  Use a histogram to get an idea of the distribution of this feature. \n",
    "\n",
    "- What does the histogram tell us about the distribution?\n",
    "- What could this mean about how the data was collected or processed to build the database?"
   ]
  },
  {
   "cell_type": "code",
   "execution_count": null,
   "metadata": {
    "colab_type": "text",
    "deletable": false,
    "id": "qzY2OlqgnkKQ",
    "nbgrader": {
     "cell_type": "code",
     "checksum": "d745c6f3c24a1c7224d2b3251b04115e",
     "grade": true,
     "grade_id": "cell-df9da49fd502a9ed",
     "locked": false,
     "points": 0,
     "schema_version": 3,
     "solution": true,
     "task": false
    }
   },
   "outputs": [],
   "source": [
    "# YOUR CODE HERE\n",
    "raise NotImplementedError()"
   ]
  },
  {
   "cell_type": "markdown",
   "metadata": {
    "colab_type": "text",
    "deletable": false,
    "editable": false,
    "id": "vY-rs_nK9bzg",
    "nbgrader": {
     "cell_type": "markdown",
     "checksum": "32201b1e60d59115c88fea88ddb452ef",
     "grade": false,
     "grade_id": "cell-06ca191a8f0570c8",
     "locked": true,
     "schema_version": 3,
     "solution": false,
     "task": false
    }
   },
   "source": [
    "## Step 2: Train a simple decision tree to predict median house values\n",
    "\n",
    "At this point we have pretty good idea about our dataset.  Let's try and create a simple model based on a decision tree.\n",
    "\n",
    "**Exercise 2.1:** Split the dataset into a training and validation set.  Use the [`train_test_split()`](https://scikit-learn.org/stable/modules/generated/sklearn.model_selection.train_test_split.html) function from Scikit-learn with `shuffle` set to `False`.  Check that the reduced datasets make sense with the `describe()` function."
   ]
  },
  {
   "cell_type": "code",
   "execution_count": null,
   "metadata": {
    "colab": {},
    "colab_type": "code",
    "deletable": false,
    "id": "3MrsXBsg9bzi",
    "nbgrader": {
     "cell_type": "code",
     "checksum": "fdc6e4ed78770c910a3a299b9ceef5a2",
     "grade": true,
     "grade_id": "cell-dab3f4cc3baf5c2c",
     "locked": false,
     "points": 0,
     "schema_version": 3,
     "solution": true,
     "task": false
    }
   },
   "outputs": [],
   "source": [
    "# YOUR CODE HERE\n",
    "raise NotImplementedError()"
   ]
  },
  {
   "cell_type": "markdown",
   "metadata": {
    "colab_type": "text",
    "deletable": false,
    "editable": false,
    "id": "S9GEIN_k9bzl",
    "nbgrader": {
     "cell_type": "markdown",
     "checksum": "cb7e2a74a9bebaa5437355decbbba15e",
     "grade": false,
     "grade_id": "cell-37573f1b370c92c0",
     "locked": true,
     "schema_version": 3,
     "solution": false,
     "task": false
    }
   },
   "source": [
    "**Exercise 2.2:** As a second check, redo the scatter plot from Exercise 1.3 for both the training and testing subsets.  \n",
    "\n",
    "- Is this what you expected?  \n",
    "- What went wrong?\n",
    "\n",
    "This is an important lesson.  In all of our dataset checking from Exercise 1, we didn't get a feel for the ordering of the data.  Ideally, we want our validation and training data to be identically distributed, however we did not take into account that the dataset has a clear ordering.  Normally, the `train_test_split()` defaults to shuffle our data for us to avoid such issues but we have turned this off.  Go ahead and set `shuffle` to `True` above and rerun the cell and your scatter plots below to verify this fixes the problem."
   ]
  },
  {
   "cell_type": "code",
   "execution_count": null,
   "metadata": {
    "colab": {},
    "colab_type": "code",
    "deletable": false,
    "id": "x8BIZLjB9bzm",
    "nbgrader": {
     "cell_type": "code",
     "checksum": "cf1608790c7de7147cb9dfc94afb0d1f",
     "grade": true,
     "grade_id": "cell-83f468eba4d75015",
     "locked": false,
     "points": 0,
     "schema_version": 3,
     "solution": true,
     "task": false
    }
   },
   "outputs": [],
   "source": [
    "# YOUR CODE HERE\n",
    "raise NotImplementedError()"
   ]
  },
  {
   "cell_type": "markdown",
   "metadata": {
    "colab_type": "text",
    "deletable": false,
    "editable": false,
    "id": "aaOwZY5S9bzo",
    "nbgrader": {
     "cell_type": "markdown",
     "checksum": "3e25049fd60bc535687c1c233d2b29e3",
     "grade": false,
     "grade_id": "cell-33fa6c5630e3e32b",
     "locked": true,
     "schema_version": 3,
     "solution": false,
     "task": false
    }
   },
   "source": [
    "**Exercise 2.3:** Use the `DecisionTreeRegressor` from Scikit-learn to create a new decision tree model with a depth of 3 and train it on the training dataset using the `fit()` method.  You can find the API for DecisionTreeRegressor [here](https://scikit-learn.org/stable/modules/generated/sklearn.tree.DecisionTreeRegressor.html)."
   ]
  },
  {
   "cell_type": "code",
   "execution_count": null,
   "metadata": {
    "colab": {},
    "colab_type": "code",
    "deletable": false,
    "id": "Nj9skxw-9bzp",
    "nbgrader": {
     "cell_type": "code",
     "checksum": "508757f9c925bb63713e03d7a7e1c967",
     "grade": false,
     "grade_id": "cell-c5b2c389358bf4fd",
     "locked": false,
     "schema_version": 3,
     "solution": true,
     "task": false
    }
   },
   "outputs": [],
   "source": [
    "# YOUR CODE HERE\n",
    "raise NotImplementedError()"
   ]
  },
  {
   "cell_type": "markdown",
   "metadata": {
    "colab_type": "text",
    "deletable": false,
    "editable": false,
    "id": "WyEIFnm69bzq",
    "nbgrader": {
     "cell_type": "markdown",
     "checksum": "2d45fa7d0d0c999e1c4f96a28faed1f4",
     "grade": false,
     "grade_id": "cell-69b92893696b98d0",
     "locked": true,
     "schema_version": 3,
     "solution": false,
     "task": false
    }
   },
   "source": [
    "**Exercise 2.4:** Let's get a sense of how well the tree fits the data.  Use the tree's `predict` method on the testing features to get a prediction for the testing dataset.  Compute the mean squared error using the `mean_squared_error()` function from Scikit-learn.  Also, plot a scatter plot of the predicted median house values versus the testing target values. "
   ]
  },
  {
   "cell_type": "code",
   "execution_count": null,
   "metadata": {
    "colab": {},
    "colab_type": "code",
    "deletable": false,
    "id": "ENd-nNFM9bzs",
    "nbgrader": {
     "cell_type": "code",
     "checksum": "dc09584bd27b7f59e4986358f6222b64",
     "grade": false,
     "grade_id": "cell-1421ed87112014fc",
     "locked": false,
     "schema_version": 3,
     "solution": true,
     "task": false
    }
   },
   "outputs": [],
   "source": [
    "# YOUR CODE HERE\n",
    "raise NotImplementedError()"
   ]
  },
  {
   "cell_type": "markdown",
   "metadata": {
    "deletable": false,
    "editable": false,
    "nbgrader": {
     "cell_type": "markdown",
     "checksum": "77a5a01d92d24f29293fc19d93dabc47",
     "grade": false,
     "grade_id": "cell-8d239bbf7914094d",
     "locked": true,
     "schema_version": 3,
     "solution": false,
     "task": false
    }
   },
   "source": [
    "\n",
    "- Is the prediction good?\n",
    "- What does the scatter plot look like?\n",
    "- How many unique values are there in our predictions? Why is this?"
   ]
  },
  {
   "cell_type": "markdown",
   "metadata": {
    "deletable": false,
    "nbgrader": {
     "cell_type": "markdown",
     "checksum": "9cd08f0b57cad4c47749627ebc4c301e",
     "grade": true,
     "grade_id": "cell-f79baebbecddd77b",
     "locked": false,
     "points": 0,
     "schema_version": 3,
     "solution": true,
     "task": false
    }
   },
   "source": [
    "YOUR ANSWER HERE"
   ]
  },
  {
   "cell_type": "markdown",
   "metadata": {
    "colab_type": "text",
    "deletable": false,
    "editable": false,
    "id": "xxl2_P2I9bzu",
    "nbgrader": {
     "cell_type": "markdown",
     "checksum": "aa92c07e195af35196b5026e0b6af04e",
     "grade": false,
     "grade_id": "cell-d928b51d24b69b3a",
     "locked": true,
     "schema_version": 3,
     "solution": false,
     "task": false
    }
   },
   "source": [
    "**Exercise 2.5** You can visualize the trained decision tree with the following code.  As stated in the beginning, one advantage of such trees is that they are easily interpretible with graphs like this one.  "
   ]
  },
  {
   "cell_type": "code",
   "execution_count": null,
   "metadata": {
    "colab": {},
    "colab_type": "code",
    "deletable": false,
    "editable": false,
    "id": "kYs98IPp9bzv",
    "nbgrader": {
     "cell_type": "code",
     "checksum": "fe56b01164964a2df8153f7230db0637",
     "grade": false,
     "grade_id": "cell-9de5e4744bf65526",
     "locked": true,
     "schema_version": 3,
     "solution": false,
     "task": false
    }
   },
   "outputs": [],
   "source": [
    "# Note, you may need to change 'model' to your tree's name\n",
    "dot_data = export_graphviz(\n",
    "    model, out_file=None, feature_names=list(training_features), filled=True, \n",
    "    rounded=True, special_characters=True)\n",
    "graph = graphviz.Source(dot_data) \n",
    "graph "
   ]
  },
  {
   "cell_type": "markdown",
   "metadata": {
    "deletable": false,
    "editable": false,
    "nbgrader": {
     "cell_type": "markdown",
     "checksum": "dad58d560662da89f0f7b7897ed31d0c",
     "grade": false,
     "grade_id": "cell-be2f554d9076cd24",
     "locked": true,
     "schema_version": 3,
     "solution": false,
     "task": false
    }
   },
   "source": [
    "- What are the main features used in the tree?"
   ]
  },
  {
   "cell_type": "markdown",
   "metadata": {
    "deletable": false,
    "nbgrader": {
     "cell_type": "markdown",
     "checksum": "3ed9de993960a55685d44934da4c3faf",
     "grade": true,
     "grade_id": "cell-7def8c6f260f632d",
     "locked": false,
     "points": 0,
     "schema_version": 3,
     "solution": true,
     "task": false
    }
   },
   "source": [
    "YOUR ANSWER HERE"
   ]
  },
  {
   "cell_type": "markdown",
   "metadata": {
    "deletable": false,
    "editable": false,
    "nbgrader": {
     "cell_type": "markdown",
     "checksum": "4dbbb5572ab5c7a23a6cdbf5592d34f0",
     "grade": false,
     "grade_id": "cell-d55bafbd10264ade",
     "locked": true,
     "schema_version": 3,
     "solution": false,
     "task": false
    }
   },
   "source": [
    "- How do these compare to features you identified in Exercise 1.4?"
   ]
  },
  {
   "cell_type": "markdown",
   "metadata": {
    "deletable": false,
    "nbgrader": {
     "cell_type": "markdown",
     "checksum": "cf5b18ebe946f2d418a9b3e0131acc81",
     "grade": true,
     "grade_id": "cell-c1674b9955b98b4d",
     "locked": false,
     "points": 0,
     "schema_version": 3,
     "solution": true,
     "task": false
    }
   },
   "source": [
    "YOUR ANSWER HERE"
   ]
  },
  {
   "cell_type": "markdown",
   "metadata": {
    "colab_type": "text",
    "deletable": false,
    "editable": false,
    "id": "GCyx0VRE9bzw",
    "nbgrader": {
     "cell_type": "markdown",
     "checksum": "51ec5662aa0961c7c0eebf1735fc8396",
     "grade": false,
     "grade_id": "cell-5908d0f44a87b2aa",
     "locked": true,
     "schema_version": 3,
     "solution": false,
     "task": false
    }
   },
   "source": [
    "**Exercise 2.6** Repeat 2.3 and 2.4 for different values of the maximum tree-depth.\n",
    "\n",
    "- How does the fit improve with increasing depth?\n",
    "\n",
    "Note that you can try visualizing the tree with larger depth values, but it becomes difficult as the tree grows."
   ]
  },
  {
   "cell_type": "markdown",
   "metadata": {
    "deletable": false,
    "nbgrader": {
     "cell_type": "markdown",
     "checksum": "f01ad6b9c209b67b0c92bdd0157ec859",
     "grade": true,
     "grade_id": "cell-45251d418261da5b",
     "locked": false,
     "points": 0,
     "schema_version": 3,
     "solution": true,
     "task": false
    }
   },
   "source": [
    "YOUR ANSWER HERE"
   ]
  },
  {
   "cell_type": "markdown",
   "metadata": {
    "colab_type": "text",
    "deletable": false,
    "editable": false,
    "id": "WllPBU6B9bzx",
    "nbgrader": {
     "cell_type": "markdown",
     "checksum": "40002faa36759934c4264e479ceda503",
     "grade": false,
     "grade_id": "cell-2f6b64ba199d2b26",
     "locked": true,
     "schema_version": 3,
     "solution": false,
     "task": false
    }
   },
   "source": [
    "## Step 3: Ensemble methods\n",
    "\n",
    "We have seen that a single decision tree is not a very good estimator.  We can improve our predictions using a number of ensemble techniques such as bagging, random forests, and boosting.  Using Scikit-learn, it is easy to try all of these models.  Here are the main classes that we will test:\n",
    "\n",
    "- [BaggingRegressor](https://scikit-learn.org/stable/modules/generated/sklearn.ensemble.BaggingRegressor.html#sklearn.ensemble.BaggingRegressor)\n",
    "- [RandomForestRegressor](https://scikit-learn.org/stable/modules/generated/sklearn.ensemble.RandomForestRegressor.html)\n",
    "- [ExtraTreesRegressor](https://scikit-learn.org/stable/modules/generated/sklearn.ensemble.ExtraTreesRegressor.html)\n",
    "- [AdaBoostRegressor](https://scikit-learn.org/stable/modules/generated/sklearn.ensemble.AdaBoostRegressor.html)\n",
    "\n",
    "Follow each link to read about the details of each method.  You may also want to revisit the lecture notes on ensemble methods for a quick refresher of these terms.  In the following exercises you will train each type of regressor using a max_depth of 10 layers and test their prediction accuracy.  Finally, you can perform a hyperparameter study to try and find the optimal model/parameter pair which minimizes the MSE on the testing dataset."
   ]
  },
  {
   "cell_type": "markdown",
   "metadata": {
    "colab_type": "text",
    "deletable": false,
    "editable": false,
    "id": "B8puJOxH9bzy",
    "nbgrader": {
     "cell_type": "markdown",
     "checksum": "b0ef1d8fbe017fde8ee60d1a7907ce33",
     "grade": false,
     "grade_id": "cell-30ffc3f1f4c72bcd",
     "locked": true,
     "schema_version": 3,
     "solution": false,
     "task": false
    }
   },
   "source": [
    "**Exercise 3.1:** Create and fit a bagging regressor based on decision trees with a max depth of 10 using 100 trees, and maximum samples and features of 50%.  Compute the MSE on the testing dataset and compare the true median house values with the predictions using a scatter plot."
   ]
  },
  {
   "cell_type": "code",
   "execution_count": null,
   "metadata": {
    "colab": {},
    "colab_type": "code",
    "deletable": false,
    "id": "kCoU1eHv9bzz",
    "nbgrader": {
     "cell_type": "code",
     "checksum": "6509c8587765076485caaa041364ffd6",
     "grade": true,
     "grade_id": "cell-4b13e0ce66664808",
     "locked": false,
     "points": 0,
     "schema_version": 3,
     "solution": true,
     "task": false
    }
   },
   "outputs": [],
   "source": [
    "# YOUR CODE HERE\n",
    "raise NotImplementedError()"
   ]
  },
  {
   "cell_type": "markdown",
   "metadata": {
    "colab_type": "text",
    "deletable": false,
    "editable": false,
    "id": "TvzZDoK29bz2",
    "nbgrader": {
     "cell_type": "markdown",
     "checksum": "cc3c12efd51aacf165a2d52aa7c2c689",
     "grade": false,
     "grade_id": "cell-adf8a5dd76f4473c",
     "locked": true,
     "schema_version": 3,
     "solution": false,
     "task": false
    }
   },
   "source": [
    "**Exercise 3.2:** Create and fit a random forest regressor with a max depth of 10.  Compute the MSE on the testing dataset and compare the true median house values with the predictions using a scatter plot."
   ]
  },
  {
   "cell_type": "code",
   "execution_count": null,
   "metadata": {
    "colab": {},
    "colab_type": "code",
    "deletable": false,
    "id": "1WkEhRE79bz2",
    "nbgrader": {
     "cell_type": "code",
     "checksum": "a8e9270cc79ef67175bb3ed9d4ba0a41",
     "grade": true,
     "grade_id": "cell-1867aca2acd36b47",
     "locked": false,
     "points": 0,
     "schema_version": 3,
     "solution": true,
     "task": false
    }
   },
   "outputs": [],
   "source": [
    "# YOUR CODE HERE\n",
    "raise NotImplementedError()"
   ]
  },
  {
   "cell_type": "markdown",
   "metadata": {
    "colab_type": "text",
    "deletable": false,
    "editable": false,
    "id": "6LRNQvxP9bz4",
    "nbgrader": {
     "cell_type": "markdown",
     "checksum": "1c125ba337fd5471617c3976308a82c0",
     "grade": false,
     "grade_id": "cell-d2074c01620f8f99",
     "locked": true,
     "schema_version": 3,
     "solution": false,
     "task": false
    }
   },
   "source": [
    "**Exercise 3.3:** Create and fit an extremely randomized trees regressor (ExtraTreesRegressor) with a max depth of 10.  Compute the MSE on the testing dataset and compare the true median house values with the predictions using a scatter plot."
   ]
  },
  {
   "cell_type": "code",
   "execution_count": null,
   "metadata": {
    "colab": {},
    "colab_type": "code",
    "deletable": false,
    "id": "JvRCKFjo9bz5",
    "nbgrader": {
     "cell_type": "code",
     "checksum": "f257b1c46d86ea8628613be664de571d",
     "grade": true,
     "grade_id": "cell-8858b4805a0de6ad",
     "locked": false,
     "points": 0,
     "schema_version": 3,
     "solution": true,
     "task": false
    }
   },
   "outputs": [],
   "source": [
    "# YOUR CODE HERE\n",
    "raise NotImplementedError()"
   ]
  },
  {
   "cell_type": "markdown",
   "metadata": {
    "colab_type": "text",
    "deletable": false,
    "editable": false,
    "id": "PRjMfVoi9bz_",
    "nbgrader": {
     "cell_type": "markdown",
     "checksum": "1169823357dd904e1f5fa0ec89bfff59",
     "grade": false,
     "grade_id": "cell-40e18157f25d006c",
     "locked": true,
     "schema_version": 3,
     "solution": false,
     "task": false
    }
   },
   "source": [
    "**Exercise 3.4:** Create and fit a tree ensemble regressor with boosting (AdaBoostRegressor) with a max depth of 10.  Compute the MSE on the testing dataset and compare the true median house values with the predictions using a scatter plot."
   ]
  },
  {
   "cell_type": "code",
   "execution_count": null,
   "metadata": {
    "colab": {},
    "colab_type": "code",
    "deletable": false,
    "id": "4RU2MD-89b0A",
    "nbgrader": {
     "cell_type": "code",
     "checksum": "4a3fb80f551967cb6f063c81972cc708",
     "grade": true,
     "grade_id": "cell-90566a05bde9007a",
     "locked": false,
     "points": 0,
     "schema_version": 3,
     "solution": true,
     "task": false
    }
   },
   "outputs": [],
   "source": [
    "# YOUR CODE HERE\n",
    "raise NotImplementedError()"
   ]
  },
  {
   "cell_type": "markdown",
   "metadata": {
    "colab_type": "text",
    "deletable": false,
    "editable": false,
    "id": "8PnmD7b89b0E",
    "nbgrader": {
     "cell_type": "markdown",
     "checksum": "6438c31e457327d5bd8298984eb9e9ed",
     "grade": false,
     "grade_id": "cell-ec096f5f98d423dc",
     "locked": true,
     "schema_version": 3,
     "solution": false,
     "task": false
    }
   },
   "source": [
    "**Exercise 3.5:** Plot the MSE for each of the four ensemble methods above versus the maximum depth used (from 2 to 20).\n",
    "\n",
    "- At what maximum depth do the different methods more or less converge?\n",
    "- Which is the best method in terms of minimum MSE obtained?"
   ]
  },
  {
   "cell_type": "code",
   "execution_count": null,
   "metadata": {
    "colab": {},
    "colab_type": "code",
    "deletable": false,
    "id": "oucz3-sd9b0F",
    "nbgrader": {
     "cell_type": "code",
     "checksum": "acd9e49f837f9615c385af62dfcdb4ae",
     "grade": true,
     "grade_id": "cell-fcddae0275613d2f",
     "locked": false,
     "points": 0,
     "schema_version": 3,
     "solution": true,
     "task": false
    }
   },
   "outputs": [],
   "source": [
    "# Generate MSE data\n",
    "# YOUR CODE HERE\n",
    "raise NotImplementedError()"
   ]
  },
  {
   "cell_type": "code",
   "execution_count": null,
   "metadata": {
    "colab": {},
    "colab_type": "code",
    "deletable": false,
    "id": "UtvHUYiZ9b0H",
    "nbgrader": {
     "cell_type": "code",
     "checksum": "c24454de0911a330613e61e4ca12ef1e",
     "grade": true,
     "grade_id": "cell-fffe639f823ad16a",
     "locked": false,
     "points": 0,
     "schema_version": 3,
     "solution": true,
     "task": false
    }
   },
   "outputs": [],
   "source": [
    "# Plot MSE curves for each model on a single plot\n",
    "# YOUR CODE HERE\n",
    "raise NotImplementedError()"
   ]
  },
  {
   "cell_type": "markdown",
   "metadata": {
    "colab_type": "text",
    "deletable": false,
    "editable": false,
    "id": "MUb-qv2i9b0K",
    "nbgrader": {
     "cell_type": "markdown",
     "checksum": "2b7ba9eb3a65d029b6d2cf432ea8b852",
     "grade": false,
     "grade_id": "cell-a7c0b3d57a6077c7",
     "locked": true,
     "schema_version": 3,
     "solution": false,
     "task": false
    }
   },
   "source": [
    "## Conclusions\n",
    "\n",
    "That's it for this lab!  Note there are still several ways you can try and improve the regression.  It might even be worth trying to use an entirely different model such as a neural network to see if you can obtain better performance.  Over time, you will build up an intuition for which models might work best on different datasets.  \n",
    "\n",
    "If you want more practice with trees and ensemble methods, checkout the Iris dataset below which is a classification problem.  You can use everything you learned here by replacing \"Regressor\" with \"Classifier\".  Happy coding!"
   ]
  },
  {
   "cell_type": "code",
   "execution_count": null,
   "metadata": {
    "colab": {},
    "colab_type": "code",
    "deletable": false,
    "editable": false,
    "id": "te2SI3mG9b0L",
    "nbgrader": {
     "cell_type": "code",
     "checksum": "2d42adfc1ff84442a4815814d3ebbf98",
     "grade": false,
     "grade_id": "cell-aea6eb5cf5c30637",
     "locked": true,
     "schema_version": 3,
     "solution": false,
     "task": false
    }
   },
   "outputs": [],
   "source": [
    "from sklearn import datasets\n",
    "iris = datasets.load_iris()"
   ]
  }
 ],
 "metadata": {
  "colab": {
   "collapsed_sections": [],
   "name": "Copie de Untitled0.ipynb",
   "provenance": [
    {
     "file_id": "https://github.com/jbscoggi/teaching/blob/master/Polytechnique/CSE204/Lab9.ipynb",
     "timestamp": 1576227393089
    }
   ]
  },
  "kernelspec": {
   "display_name": "Python (cse204)",
   "language": "python",
   "name": "cse204"
  },
  "language_info": {
   "codemirror_mode": {
    "name": "ipython",
    "version": 3
   },
   "file_extension": ".py",
   "mimetype": "text/x-python",
   "name": "python",
   "nbconvert_exporter": "python",
   "pygments_lexer": "ipython3",
   "version": "3.6.10"
  }
 },
 "nbformat": 4,
 "nbformat_minor": 4
}
