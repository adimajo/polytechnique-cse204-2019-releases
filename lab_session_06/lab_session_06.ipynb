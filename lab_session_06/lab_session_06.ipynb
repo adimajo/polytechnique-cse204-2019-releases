{
 "cells": [
  {
   "cell_type": "markdown",
   "metadata": {},
   "source": [
    "Before you turn this problem in, make sure everything runs as expected. First, **restart the kernel** (in the menubar, select Kernel$\\rightarrow$Restart) and then **run all cells** (in the menubar, select Cell$\\rightarrow$Run All).\n",
    "\n",
    "Make sure you fill in any place that says `YOUR CODE HERE` or \"YOUR ANSWER HERE\", as well as your name and collaborators below:"
   ]
  },
  {
   "cell_type": "code",
   "execution_count": null,
   "metadata": {},
   "outputs": [],
   "source": [
    "NAME = \"\"\n",
    "COLLABORATORS = \"\""
   ]
  },
  {
   "cell_type": "markdown",
   "metadata": {},
   "source": [
    "---"
   ]
  },
  {
   "cell_type": "markdown",
   "metadata": {
    "colab_type": "text",
    "deletable": false,
    "editable": false,
    "id": "5YuK2f4u_CzI",
    "nbgrader": {
     "cell_type": "markdown",
     "checksum": "d0ec01e8fb94187bbaa64bc5aa8698eb",
     "grade": false,
     "grade_id": "cell-d65e9154014fb110",
     "locked": true,
     "schema_version": 3,
     "solution": false,
     "task": false
    }
   },
   "source": [
    "# CSE204 - Introduction to Machine Learning - Lab Session 6: Building a Neural Network From Scratch\n",
    "\n",
    "<img src=\"logo.jpg\" style=\"float: left; width: 15%\" />\n",
    "\n",
    "[CSE204-2019](https://moodle.polytechnique.fr/course/view.php?id=7862) Lab session #06\n",
    "\n",
    "J.B. Scoggins - Adrien Ehrhardt\n",
    "\n",
    "[![Open In Colab](https://colab.research.google.com/assets/colab-badge.svg)](https://colab.research.google.com/github/adimajo/polytechnique-cse204-2019/blob/master/lab_session_06.ipynb) \n",
    "\n",
    "[![Binder](https://mybinder.org/badge_logo.svg)](https://mybinder.org/v2/gh/adimajo/polytechnique-cse204-2019/blob/master/lab_session_06.ipynb)"
   ]
  },
  {
   "cell_type": "markdown",
   "metadata": {
    "colab_type": "text",
    "deletable": false,
    "editable": false,
    "id": "rWMgDSTC_CzL",
    "nbgrader": {
     "cell_type": "markdown",
     "checksum": "c504527bb65ca3e5c2c5af69f4914c9a",
     "grade": false,
     "grade_id": "cell-6b9fe28aa4a433c9",
     "locked": true,
     "schema_version": 3,
     "solution": false,
     "task": false
    }
   },
   "source": [
    "## Introduction\n",
    "\n",
    "In this lab you will learn to create a simple multilayer perceptron (MLP) neural network from scratch using only the Numpy package for matrix-vector operations.  In order to train the network on several datasets, you will need to implement the back-propagation algorithm with gradient descent.  Before getting started, let's review the notation we will use in this lab and recall the stochastic gradient descent algorithm.\n",
    "\n",
    "A solution to this lab is available on Colab [here](https://colab.research.google.com/github/jbscoggi/teaching/blob/master/Polytechnique/CSE204/Lab6_answers.ipynb).\n",
    "\n",
    "### Notation\n",
    "\n",
    "We will consider simple feed-forward networks that can be described by the following recursive relationship,\n",
    "\n",
    "$$\n",
    "\\begin{align}\n",
    "&z^l = a^{l-1} W^l + b^l,\\\\\n",
    "&a^l = \\sigma^l(z^l),\n",
    "\\end{align}\n",
    "$$\n",
    "\n",
    "where $a^l$ is the output (activation) of layer $l$ which is a nonlinear function $\\sigma^l$ of a linear transformation of the previous layer's output.  The linear transformation is performed using the weight matrix $W^l$ and bias vector $b^l$ associated with the layer $l$.  We will denote the last layer in the network with a capital $L$ superscript.  The recursion is stopped by setting $a^0 = x$, where $x$ is the input vector to our network.  Note that in the recursive expressions above, we implicitly assume that our input/output vectors are row vectors.  The reason for this will be evident later.\n",
    "\n",
    "Taking this notation into account, we see that a network with $L-1$ hidden layers is fully expressed by its $L$ weight matrices, bias vectors, and activation functions.  We can denote the set of trainable parameters in our network by $\\theta = \\{ W^1, \\dots, W^L, b^1, \\dots, b^L \\}$.\n",
    "\n",
    "In this lab, we are only concerned with supervised learning tasks.  Recall that in supervised learning, we have a dataset represented by a list of $(x, y)$ pairs where $x$ is the input to our model and $y$ is the desired output.\n",
    "\n",
    "- For regression problems where we want to fit a function $y = f(x)$, $x$ is the independent variable vector, and $y$ is the function value.\n",
    "- In classification problems, $x$ will correspond to a set of attributes and $y$ the corresponding label.\n",
    "\n",
    "The goal of supervised learning is to \"train\" our network by adjusting its parameters in order to minimize a cost function over the entire training set,\n",
    "\n",
    "$$\n",
    "\\min_\\theta \\mathcal{L} = \\min_\\theta \\frac{1}{N} \\sum_{p=1}^N \\ell_p \n",
    "$$\n",
    "\n",
    "where $\\ell_p$ is just a short-hand notation for $\\ell_p = \\ell(a^L(x_p), y_p)$ and $\\ell(\\hat{y}, y)$ denotes the particular form of the loss function being considered.  In this lab, we will use 2 different loss functions:\n",
    "\n",
    "1. Quadratic Loss: $\\ell(\\hat{y}, y) = \\|\\hat{y} - y\\|^2 / 2$\n",
    "2. Cross-entropy Loss: $\\ell(\\hat{y}, y) = -\\sum_j[ y_j \\ln\\hat{y}_j + (1-y_j)\\ln(1-\\hat{y}_j)]$\n"
   ]
  },
  {
   "cell_type": "markdown",
   "metadata": {
    "colab_type": "text",
    "deletable": false,
    "editable": false,
    "id": "f70A4AU__CzM",
    "nbgrader": {
     "cell_type": "markdown",
     "checksum": "c956aad817cf72b07d91d62fdc18acec",
     "grade": false,
     "grade_id": "cell-6ac37293d56527cf",
     "locked": true,
     "schema_version": 3,
     "solution": false,
     "task": false
    }
   },
   "source": [
    "## Step 1: Build an untrainable network\n",
    "\n",
    "Understanding (and implementing) the back-propagation algorithm can seem a little daunting at first.  Therefore, let's start by building out the functions we need just to create a network that cannot be trained.  First load the libraries.  _You should only have to do this once._"
   ]
  },
  {
   "cell_type": "code",
   "execution_count": null,
   "metadata": {
    "colab": {},
    "colab_type": "code",
    "deletable": false,
    "editable": false,
    "id": "PBkd3Edr_CzM",
    "nbgrader": {
     "cell_type": "code",
     "checksum": "f23f61b422a4d86dee3eaecb3ff30520",
     "grade": false,
     "grade_id": "cell-9925427eca70b36f",
     "locked": true,
     "schema_version": 3,
     "solution": false,
     "task": false
    }
   },
   "outputs": [],
   "source": [
    "import numpy as np\n",
    "import matplotlib.pyplot as plt"
   ]
  },
  {
   "cell_type": "markdown",
   "metadata": {
    "colab_type": "text",
    "deletable": false,
    "editable": false,
    "id": "YQCWlxli_CzQ",
    "nbgrader": {
     "cell_type": "markdown",
     "checksum": "4cb829023683dbacc457e15e9d207909",
     "grade": false,
     "grade_id": "cell-7ecb4be9dc4bc9aa",
     "locked": true,
     "schema_version": 3,
     "solution": false,
     "task": false
    }
   },
   "source": [
    "### Exercise 1: Implement the activation functions.\n",
    "\n",
    "1. The easiest activation we can implement is the identity function whic simply returns the input as itself.  Implement this below in the class template `Identity`.  The `prime` function should implement the derivative of the activation.\n",
    "2. The threshold activation function takes an input and returns 1 if the input is positive, otherwise 0.  Implement the `Threshold` class below. (hint: use the `np.where` function)\n",
    "3. Recall that the sigmoid function is given as $\\sigma(x) = 1 / (1 + \\exp(-x))$.  Derive the derivative of $\\sigma(x)$ and show that it can be represented as $\\sigma'(x) = \\sigma(x) [1 - \\sigma(x)]$\n",
    "4. Implement the `Sigmoid` class below."
   ]
  },
  {
   "cell_type": "code",
   "execution_count": null,
   "metadata": {
    "colab": {},
    "colab_type": "code",
    "id": "ctT7HwXz_CzQ"
   },
   "outputs": [],
   "source": [
    "# Activation functions\n",
    "class Identity:\n",
    "\n",
    "    @staticmethod\n",
    "    def __call__(x):\n",
    "        pass\n",
    "\n",
    "    @staticmethod\n",
    "    def prime(x):\n",
    "        pass\n",
    "\n",
    "class Threshold:\n",
    "\n",
    "    @staticmethod\n",
    "    def __call__(x):\n",
    "        pass\n",
    "    \n",
    "    @staticmethod\n",
    "    def prime(x):\n",
    "        pass\n",
    "\n",
    "    \n",
    "class Sigmoid:\n",
    "\n",
    "    @staticmethod\n",
    "    def __call__(x):\n",
    "        pass\n",
    "\n",
    "    @staticmethod\n",
    "    def prime(x):\n",
    "        pass"
   ]
  },
  {
   "cell_type": "code",
   "execution_count": null,
   "metadata": {
    "deletable": false,
    "editable": false,
    "nbgrader": {
     "cell_type": "code",
     "checksum": "115ecd708cc4e57cddb6a79f58f3ce06",
     "grade": true,
     "grade_id": "cell-4b14f1c07b2239ec",
     "locked": true,
     "points": 0,
     "schema_version": 3,
     "solution": false,
     "task": false
    }
   },
   "outputs": [],
   "source": []
  },
  {
   "cell_type": "markdown",
   "metadata": {
    "colab_type": "text",
    "deletable": false,
    "editable": false,
    "id": "xoN3Pbi__CzU",
    "nbgrader": {
     "cell_type": "markdown",
     "checksum": "fadb5a588ae554924bf4cf382b6fbb02",
     "grade": false,
     "grade_id": "cell-1e3ef5e338abc605",
     "locked": true,
     "schema_version": 3,
     "solution": false,
     "task": false
    }
   },
   "source": [
    "4. Plot the activastion functions and their derivative on the domain [-5, 5]."
   ]
  },
  {
   "cell_type": "code",
   "execution_count": null,
   "metadata": {
    "colab": {},
    "colab_type": "code",
    "deletable": false,
    "id": "cNmcyS4Q_CzU",
    "nbgrader": {
     "cell_type": "code",
     "checksum": "a65e66db857aa16bf116cbad9179c163",
     "grade": true,
     "grade_id": "cell-868d89397737e596",
     "locked": false,
     "points": 0,
     "schema_version": 3,
     "solution": true,
     "task": false
    }
   },
   "outputs": [],
   "source": [
    "# YOUR CODE HERE\n",
    "raise NotImplementedError()"
   ]
  },
  {
   "cell_type": "markdown",
   "metadata": {
    "colab_type": "text",
    "deletable": false,
    "editable": false,
    "id": "uhCd0Nmr_CzW",
    "nbgrader": {
     "cell_type": "markdown",
     "checksum": "cf9ab616a1068d12ebb9e72481571cec",
     "grade": false,
     "grade_id": "cell-9cabe34a6f94db22",
     "locked": true,
     "schema_version": 3,
     "solution": false,
     "task": false
    }
   },
   "source": [
    "During this lab, we will build on the following python class called `Network` which will represent our neural net.  The `Network` class will keep track of the weights, biases, and activations needed to evaluate and train our model.  The following exercises will guide you through building up the class from the skeleton below."
   ]
  },
  {
   "cell_type": "code",
   "execution_count": null,
   "metadata": {
    "colab": {},
    "colab_type": "code",
    "id": "eY-JPx-3_CzX"
   },
   "outputs": [],
   "source": [
    "class Network:\n",
    "    \"\"\"A simple implementation of a feed-forward artificial neural network.\n",
    "    \n",
    "    Work on this class throughout the entire lab, rerunning this cell after each update.\n",
    "    \"\"\"\n",
    "\n",
    "    def __init__(self, sizes, activations):\n",
    "        \"\"\"Construct a network given a list of the number of neurons in each layer and \n",
    "        a list of activations which will be applied to each layer.\n",
    "        \n",
    "        :param sizes: A list of integers representing the number of nodes in each layer, \n",
    "        including the input and output layers.\n",
    "        :param activations: A list of callable objects representing the activation functions.\n",
    "        Its size should be one less than sizes.\n",
    "        \"\"\"\n",
    "        # Exercise 2.2\n",
    "        \n",
    "    \n",
    "    def num_params(self):\n",
    "        \"\"\"Returns the total number of trainable parameters in this network.\"\"\"\n",
    "        # Exercise 2.3\n",
    "    \n",
    "    \n",
    "    def feed_forward(self, x):\n",
    "        \"\"\"Evaluates the network for the given input and returns the result.\n",
    "        \n",
    "        :param x: A numpy 2D-array where the columns represent input variables\n",
    "        and rows represent independent samples.\n",
    "        \"\"\"\n",
    "        # Exercise 2.4\n",
    "        \n",
    "    \n",
    "    def backprop(self, x, y, cost):\n",
    "        \"\"\"Compute gradients of cost function w.r.t network parameters for a training point.\"\"\"\n",
    "        # Exercise 6.3\n",
    "        pass\n",
    "\n",
    "    def update_step(self, training_data, cost, learning_rate):\n",
    "        \"\"\"Compute the average parameter gradients over the whole training set and do a GD step.\n",
    "        \n",
    "        :param training_data: An (x, y) tuple containing the training data.\n",
    "        :param cost: A callable object with signature cost(y_pred, y) for computing the cost of a single\n",
    "        training example.\n",
    "        :param learning_rate: The learning rate to use in the GD step.\n",
    "        \"\"\"\n",
    "        # Exercise 6.4\n",
    "        pass\n",
    "    \n",
    "    def train(self, training_data, cost, learning_rate, epochs):\n",
    "        \"\"\"Trains this network on the training data\n",
    "        \n",
    "        :param training_data: An (x, y) tuple containing the training data.\n",
    "        :param cost: A callable object with signature cost(y_pred, y) for computing the cost of a single\n",
    "        training example.\n",
    "        :param learning_rate: The learning rate to use in the GD step.\n",
    "        :param epochs: The number of epochs to train with.\n",
    "        \"\"\"\n",
    "        for i in range(epochs):\n",
    "            self.update_step(training_data, cost, learning_rate)\n",
    "            \n",
    "            # Compute the loss\n",
    "            x, y = training_data\n",
    "            loss = cost(self.feed_forward(x), y) / x.shape[0]\n",
    "            print('epoch: ', i, ', loss: ', loss)"
   ]
  },
  {
   "cell_type": "code",
   "execution_count": null,
   "metadata": {
    "deletable": false,
    "editable": false,
    "nbgrader": {
     "cell_type": "code",
     "checksum": "c31ca89a7e4fe16786760967e8782706",
     "grade": true,
     "grade_id": "cell-a52023362200b5ea",
     "locked": true,
     "points": 0,
     "schema_version": 3,
     "solution": false,
     "task": false
    }
   },
   "outputs": [],
   "source": []
  },
  {
   "cell_type": "markdown",
   "metadata": {
    "colab_type": "text",
    "deletable": false,
    "editable": false,
    "id": "8alCasgu_CzZ",
    "nbgrader": {
     "cell_type": "markdown",
     "checksum": "52ff270eea54baf8ba48c59970bf3c6f",
     "grade": false,
     "grade_id": "cell-2b126872894e4635",
     "locked": true,
     "schema_version": 3,
     "solution": false,
     "task": false
    }
   },
   "source": [
    "### Exercise 2: First draft of the Network class\n",
    "\n",
    "1. From the recursion formulas above, write down the shapes of the weight matrices and bias vectors, given the number of neurons in each layer.\n",
    "2. Implement the init `__init__` function in `Network` above.  Construct a list of weight matrices and bias vectors which are randomly initialized with normal distributions (see `np.random.randn`).\n",
    "2. Implement the `num_params` function in `Network` above.  Use your knowledge of the shapes of the weights and biases.\n",
    "3. Implement the `feed_forward` function in `Network` above. Use the recurance relations discussed in the Notation section."
   ]
  },
  {
   "cell_type": "markdown",
   "metadata": {
    "colab_type": "text",
    "deletable": false,
    "editable": false,
    "id": "gSel8dO__Cza",
    "nbgrader": {
     "cell_type": "markdown",
     "checksum": "6671cdc15ade606572f40e02c6f9ad6c",
     "grade": false,
     "grade_id": "cell-4bddc8c9c4cbed49",
     "locked": true,
     "schema_version": 3,
     "solution": false,
     "task": false
    }
   },
   "source": [
    "### Exercise 3: Test feed-forward Network initialization\n",
    "\n",
    "1. Create a network with 2 hidden layers of 4 nodes that takes 4 inputs and has 1 output. (Use any activation)"
   ]
  },
  {
   "cell_type": "code",
   "execution_count": null,
   "metadata": {
    "colab": {},
    "colab_type": "code",
    "deletable": false,
    "id": "11dZmuk5_Czb",
    "nbgrader": {
     "cell_type": "code",
     "checksum": "c2ca73c308bb1b1abdbcf6aa2fd4559c",
     "grade": true,
     "grade_id": "cell-f4d5798cb8807a54",
     "locked": false,
     "points": 0,
     "schema_version": 3,
     "solution": true,
     "task": false
    }
   },
   "outputs": [],
   "source": [
    "# YOUR CODE HERE\n",
    "raise NotImplementedError()"
   ]
  },
  {
   "cell_type": "markdown",
   "metadata": {
    "colab_type": "text",
    "deletable": false,
    "editable": false,
    "id": "NAZzfQ5B_Czd",
    "nbgrader": {
     "cell_type": "markdown",
     "checksum": "5128d7df2b34f02da5a6326ec073fa69",
     "grade": false,
     "grade_id": "cell-ae87f6f32d359cd9",
     "locked": true,
     "schema_version": 3,
     "solution": false,
     "task": false
    }
   },
   "source": [
    "2. Compute by hand the number of parameters this network should have. (61)\n",
    "3. Check that `num_params` provides the same value."
   ]
  },
  {
   "cell_type": "code",
   "execution_count": null,
   "metadata": {
    "colab": {},
    "colab_type": "code",
    "deletable": false,
    "id": "gUzVoUib_Czd",
    "nbgrader": {
     "cell_type": "code",
     "checksum": "217b8dae141b78487290c633555da3b8",
     "grade": true,
     "grade_id": "cell-87d7c8e8eff73c98",
     "locked": false,
     "points": 0,
     "schema_version": 3,
     "solution": true,
     "task": false
    }
   },
   "outputs": [],
   "source": [
    "# YOUR CODE HERE\n",
    "raise NotImplementedError()"
   ]
  },
  {
   "cell_type": "markdown",
   "metadata": {
    "colab_type": "text",
    "deletable": false,
    "editable": false,
    "id": "O1HGWxSg_Czh",
    "nbgrader": {
     "cell_type": "markdown",
     "checksum": "5f8cc8999fb6a2710c18a0ab22bcf599",
     "grade": false,
     "grade_id": "cell-99327dd1116cd912",
     "locked": true,
     "schema_version": 3,
     "solution": false,
     "task": false
    }
   },
   "source": [
    "4. Print the weights and biases of the network and confirm they are intialized correctly (shape and values)."
   ]
  },
  {
   "cell_type": "code",
   "execution_count": null,
   "metadata": {
    "colab": {},
    "colab_type": "code",
    "deletable": false,
    "id": "ri_SV2x0_Czi",
    "nbgrader": {
     "cell_type": "code",
     "checksum": "c67e64f3290fd72c424fcf0811c833af",
     "grade": true,
     "grade_id": "cell-98afd0b9734c77a8",
     "locked": false,
     "points": 0,
     "schema_version": 3,
     "solution": true,
     "task": false
    }
   },
   "outputs": [],
   "source": [
    "# YOUR CODE HERE\n",
    "raise NotImplementedError()"
   ]
  },
  {
   "cell_type": "markdown",
   "metadata": {
    "colab_type": "text",
    "deletable": false,
    "editable": false,
    "id": "VXTC5Gpe_Czm",
    "nbgrader": {
     "cell_type": "markdown",
     "checksum": "93505e3c8fe28eb3d4e43effea413708",
     "grade": false,
     "grade_id": "cell-9285ed448929d454",
     "locked": true,
     "schema_version": 3,
     "solution": false,
     "task": false
    }
   },
   "source": [
    "### Exercise 4: Build logic gates\n",
    "\n",
    "Below is a table of logical functions (logic gates).  Each function takes two values (A and B) representing True (1) or False (0) propositions and returns a True or False value.\n",
    "\n",
    "| A | B | AND | OR | XOR | NAND |\n",
    "|---|---|-----|----|-----|------|\n",
    "| 0 | 0 | 0   | 0  | 0   | 1    |\n",
    "| 0 | 1 | 0   | 1  | 1   | 1    |\n",
    "| 1 | 0 | 0   | 1  | 1   | 1    |\n",
    "| 1 | 1 | 1   | 1  | 0   | 0    |\n",
    "\n",
    "Interestingly, [it is possible to create any boolean function of any size through a combination of NAND gates](https://en.wikipedia.org/wiki/NAND_gate)!  Thus, if we can create a network which reproduces the logic behind a NAND-gate, it is possible to represent any logical function (and by extension any mathematical function) by combining such a network into ever more complex networks.  This is one version of a universal approximation theorem for ANNs.\n",
    "\n",
    "**Task:** build the AND, OR, and NAND logic gates above using the simple network below by modifying its weights and biases directly.  I have provided the `logic_gate` function to help test your networks.\n"
   ]
  },
  {
   "cell_type": "code",
   "execution_count": null,
   "metadata": {
    "colab": {},
    "colab_type": "code",
    "id": "Qp7utpCB_Czn"
   },
   "outputs": [],
   "source": [
    "def logic_gate(network):\n",
    "    \"\"\"Helper function for testing our network as a logic gate.\"\"\"\n",
    "    return network.feed_forward(\n",
    "        np.asarray(\n",
    "            [[0, 0],\n",
    "            [0, 1],\n",
    "            [1, 0],\n",
    "            [1, 1]]\n",
    "        )\n",
    "    )\n",
    "\n",
    "# Create a simple \"logic gate\" network\n",
    "network = Network([2,1], [Threshold()])\n",
    "\n",
    "# Modify the weights and biases to create the logic gates\n",
    "# AND\n",
    "network.weights[0] =  # ?\n",
    "network.biases[0] = # ?\n",
    "print('AND(A,B) = \\n', logic_gate(network))\n",
    "\n",
    "# OR\n",
    "network.weights[0] = # ?\n",
    "network.biases[0] = # ?\n",
    "print('OR(A,B) = \\n', logic_gate(network))\n",
    "\n",
    "# NAND\n",
    "network.weights[0] = # ?\n",
    "network.biases[0] = # ?\n",
    "print('NAND(A,B) = \\n', logic_gate(network))\n",
    "\n"
   ]
  },
  {
   "cell_type": "code",
   "execution_count": null,
   "metadata": {
    "deletable": false,
    "editable": false,
    "nbgrader": {
     "cell_type": "code",
     "checksum": "5dc388f5dda60a53e8dc9f1fd02769d2",
     "grade": true,
     "grade_id": "cell-ade6ddd65645696f",
     "locked": true,
     "points": 0,
     "schema_version": 3,
     "solution": false,
     "task": false
    }
   },
   "outputs": [],
   "source": []
  },
  {
   "cell_type": "markdown",
   "metadata": {
    "colab_type": "text",
    "deletable": false,
    "editable": false,
    "id": "yiF9J9OA_Czr",
    "nbgrader": {
     "cell_type": "markdown",
     "checksum": "517f2284de6d26acb4a1dbb35bb3b91e",
     "grade": false,
     "grade_id": "cell-61601a225ff5885a",
     "locked": true,
     "schema_version": 3,
     "solution": false,
     "task": false
    }
   },
   "source": [
    "## Step 2: Training the network\n",
    "\n",
    "While interesting, the `Network` class above is pretty useless as it stands since there is no way to learn a function we don't already know.  In this step, we will add the ability to train our network on a dataset using the gradient descent and back-propagation algorithms.  Let's review both of these algorithms now.\n",
    "\n",
    "### (Stochastic) Gradient Descent\n",
    "\n",
    "Recall from the beginning of the lab that we want to train the network parameters by minimizing a given loss function over an entire dataset.  One method of doing this is using the gradient descent (GD) algorithm which you have already seen this in the lecture portion of the class, thus I will just provide the update rule here.\n",
    "\n",
    "$$\n",
    "\\theta = \\theta - \\eta \\nabla_\\theta \\mathcal{L},\n",
    "$$\n",
    "\n",
    "where $\\eta$ is the learning rate.  The update rule above is called GD because direction of change in the network parameters follow the opposite of the parameters' gradient in the loss function.  You can think of this like a ball rolling down a hill to find the minimum of the topology.  Only in this case, the ball is massless because it has no momentum.  When this update rule is applied to a random subset of the total dataset, it is called stochastic gradient descent (SGD).  SGD is far more efficient than GD when the batch size is large enough to approximate the true gradients while being significantly smaller than the full dataset.  Running over the entire dataset with SGD once is called an epoch of training.\n",
    "\n",
    "### Back-Propagation\n",
    "\n",
    "From the GD update rule above, it is clear we will need to compute the gradients of the network parameters with respect to the cost function.  This is exactly what back-propagation does, and thus is a crucial component to almost all neural network learning algorithms.  In the next exercise, we will derive the 4 equations in back-propagation.  You will need knowledge of the [chain rule for differentiation](https://en.wikipedia.org/wiki/Chain_rule) if you are not already familiar with this.\n",
    "\n",
    "### Exercise 5: Derive backprop formulas\n",
    "\n",
    "Before we start, it is convenient to define the following variable,\n",
    "\n",
    "$$\n",
    "\\delta^l \\equiv \\frac{\\partial \\ell_p}{\\partial z^l},\n",
    "$$\n",
    "\n",
    "Thus $\\delta^l$ is the gradient of the loss function for a point $p$ with respect to the input to the activation function for the layer $l$ in our network.\n",
    "\n",
    "1. What is the shape of $\\delta^L$? (same as output)\n",
    "2. Show that $\\delta^L = \\nabla_{a^L} \\ell_p  \\odot {\\sigma'}^L ( z^L )$. Hint: apply the chain rule to the definition of $\\delta^L$.\n",
    "3. Show that for $l < L$, $\\delta^l = [\\delta^{l+1} (W^{l+1})^T ] \\odot {\\sigma'}^l ( z^l )$.  Hint: try computing $\\delta^{L-1}$ and compare to $\\delta^L$.\n",
    "4. Show that $\\nabla_{W^l}\\ell_p = (a^{l-1})^T \\delta^l$. Hint: use definition of $z^l$.\n",
    "5. Show that $\\nabla_{b^l}\\ell_p = \\delta^l$.\n",
    "\n",
    "Note that these four formulas allow us to compute the gradient of the loss function for a single training point with respect to the parameters of our network.  Looking at the equations more closely, you should see a possible algorithm form.\n",
    "\n",
    "1. Compute the values of $z^l$ and $a^l$ for $l = {1, \\dots, L}$ by forward propagation through the network.  Recall $a^0 = x_p$.\n",
    "2. Use the equation in Exercise 5.2 above to compute $\\delta^L$.  \n",
    "3. Back-propagate in the reverse direction using the equation in Exercise 5.3 to get all the other $\\delta^l$ values.\n",
    "4. Compute the parameter gradients using the equations in Exercises 5.4 and 5.5.\n",
    "\n",
    "Note that this will yield the gradients for a single training point.  The gradients for the total loss function can easily be computed by\n",
    "\n",
    "$$\n",
    "\\nabla_\\theta \\mathcal{L} = \\frac{1}{N} \\sum_{p=1}^N \\nabla_\\theta \\ell_p.\n",
    "$$\n",
    "\n",
    "Of course, the exact form of $\\nabla_\\theta \\ell_p$ will depend on the choice of $\\ell$."
   ]
  },
  {
   "cell_type": "markdown",
   "metadata": {
    "colab_type": "text",
    "deletable": false,
    "editable": false,
    "id": "CcgyCRvg_Czs",
    "nbgrader": {
     "cell_type": "markdown",
     "checksum": "f30cfe539b0cffae8754547c11095426",
     "grade": false,
     "grade_id": "cell-d27916f41d987521",
     "locked": true,
     "schema_version": 3,
     "solution": false,
     "task": false
    }
   },
   "source": [
    "### Exercise 6: Implement the training algorithm\n",
    "\n",
    "Before we can implement the training algorithm, we need to define a cost function.  For now, let's create a class representing the quadratic cost which was given in the introduction.\n",
    "\n",
    "1. Show that the derivative of the quadratic cost is $\\nabla_{\\hat{y}} \\ell(\\hat{y}, y) = \\hat{y} - y$.\n",
    "2. Impement the quadratic cost function below."
   ]
  },
  {
   "cell_type": "code",
   "execution_count": null,
   "metadata": {
    "colab": {},
    "colab_type": "code",
    "id": "Dq7HxJY1_Czu"
   },
   "outputs": [],
   "source": [
    "class QuadraticCost:\n",
    "\n",
    "    @staticmethod\n",
    "    def __call__(y_pred, y):\n",
    "        \"\"\"Computes the quadratic cost function.\"\"\"\n",
    "        pass\n",
    "    \n",
    "    @staticmethod\n",
    "    def derivative(y_pred, y):\n",
    "        \"\"\"Computes the derivative of the quadratic cost function.\"\"\"\n",
    "        pass"
   ]
  },
  {
   "cell_type": "code",
   "execution_count": null,
   "metadata": {
    "deletable": false,
    "editable": false,
    "nbgrader": {
     "cell_type": "code",
     "checksum": "089daa6305fd0045022ab6c0c2ce9c9f",
     "grade": true,
     "grade_id": "cell-e502b0cac73ab530",
     "locked": true,
     "points": 0,
     "schema_version": 3,
     "solution": false,
     "task": false
    }
   },
   "outputs": [],
   "source": []
  },
  {
   "cell_type": "markdown",
   "metadata": {
    "colab_type": "text",
    "deletable": false,
    "editable": false,
    "id": "sVItBWoq_Czw",
    "nbgrader": {
     "cell_type": "markdown",
     "checksum": "d400989708f3eaf7363568549853dc25",
     "grade": false,
     "grade_id": "cell-198d1a661f9903e5",
     "locked": true,
     "schema_version": 3,
     "solution": false,
     "task": false
    }
   },
   "source": [
    "With this cost defined, let's implement three remaining functions in `Network` that will allow us to train our models.  The first is the `backprop` method which takes a single training sample $x, y$ and a cost function object like the one above, and computes the gradient of the cost function using the backpropagation algorithm.\n",
    "\n",
    "3. Implement the `backprop` funtion in the `Network` class.\n",
    "\n",
    "Next, implement a single epoch of training by averaging the gradients over the whole dataset (calling `backprop` on each data point) and using the GD update rule to update the weights and biases.\n",
    "\n",
    "4. Implement the `update_step` function in the `Network` class.\n",
    "\n",
    "The `update_step` method is used by the `train` method successively in a loop as you can see in the `Network` class implementation above.  Assuming you have correctly implemented the `backprop` and `update_step` functions correctly, you should now be able to train the network on real training data."
   ]
  },
  {
   "cell_type": "markdown",
   "metadata": {
    "colab_type": "text",
    "deletable": false,
    "editable": false,
    "id": "HOoISY4e_Czy",
    "nbgrader": {
     "cell_type": "markdown",
     "checksum": "b9db860b5d483717d2e5c78bcd8fb0cd",
     "grade": false,
     "grade_id": "cell-85bd25f54fbff113",
     "locked": true,
     "schema_version": 3,
     "solution": false,
     "task": false
    }
   },
   "source": [
    "### Exercise 7: Test training on simple regression problem.\n",
    "\n",
    "Run the following code to test the network.  If all is correct, you should see the totall loss dropping and the network will learn the sine function.  \n",
    "\n",
    "1. Play with different hyperparameters of the network and training such as the number of layers, number of nodes per layer, training rate, and number of training samples.  Can you improve on the training performance?"
   ]
  },
  {
   "cell_type": "code",
   "execution_count": null,
   "metadata": {
    "colab": {},
    "colab_type": "code",
    "id": "trHvjm86_Czy"
   },
   "outputs": [],
   "source": [
    "x = np.random.uniform(-1, 1, (100, 1))\n",
    "y = np.sin(np.pi*x)\n",
    "\n",
    "network = Network([1, 100, 1], [Sigmoid(), Identity()])\n",
    "network.train((x, y), QuadraticCost(), 0.1, 10000)\n",
    "\n",
    "x_pred = np.arange(-1, 1, 0.01).reshape(200,1)\n",
    "y_pred = network.feed_forward(x_pred)\n",
    "\n",
    "plt.plot(x, y, 'k.')\n",
    "plt.plot(x_pred, y_pred, 'k-')\n",
    "plt.show()"
   ]
  },
  {
   "cell_type": "markdown",
   "metadata": {
    "colab_type": "text",
    "deletable": false,
    "editable": false,
    "id": "oS8FykEW_Cz1",
    "nbgrader": {
     "cell_type": "markdown",
     "checksum": "6b26c4b726a58b6fe38640c47c202e22",
     "grade": false,
     "grade_id": "cell-2755c7b7a760993b",
     "locked": true,
     "schema_version": 3,
     "solution": false,
     "task": false
    }
   },
   "source": [
    "## Step 3: Hand-written digit classification"
   ]
  },
  {
   "cell_type": "markdown",
   "metadata": {
    "colab_type": "text",
    "deletable": false,
    "editable": false,
    "id": "T3z-qi2D_Cz2",
    "nbgrader": {
     "cell_type": "markdown",
     "checksum": "5564f90c4ca78128f29e20fd0a5221ee",
     "grade": false,
     "grade_id": "cell-893e161ea291f57e",
     "locked": true,
     "schema_version": 3,
     "solution": false,
     "task": false
    }
   },
   "source": [
    "Let's test our model on a more sophisticated dataset, namely the [MNIST dataset](http://yann.lecun.com/exdb/mnist/). This dataset includes 70,000 images of hand-written digits 28x28 pixels (=784), split into a training set of 60,000 images and a test set of 10,000 images. Each image is labeled with a digit from 0 to 9.  "
   ]
  },
  {
   "cell_type": "markdown",
   "metadata": {
    "colab_type": "text",
    "deletable": false,
    "editable": false,
    "id": "DMPGw1_2_Cz3",
    "nbgrader": {
     "cell_type": "markdown",
     "checksum": "b7fce84b58aaebeaee0b9acb61756bcf",
     "grade": false,
     "grade_id": "cell-3889c95ba020ab46",
     "locked": true,
     "schema_version": 3,
     "solution": false,
     "task": false
    }
   },
   "source": [
    "### Exercise 8: Download the MNIST dataset\n",
    "\n",
    "1. Just run the following cell to download the MNIST database and prepare it."
   ]
  },
  {
   "cell_type": "code",
   "execution_count": null,
   "metadata": {
    "colab": {},
    "colab_type": "code",
    "deletable": false,
    "editable": false,
    "id": "pyFHngav_Cz4",
    "nbgrader": {
     "cell_type": "code",
     "checksum": "8ef2ebd1d5bacd8058ac1f367b62dc09",
     "grade": false,
     "grade_id": "cell-0a9974b268a74286",
     "locked": true,
     "schema_version": 3,
     "solution": false,
     "task": false
    }
   },
   "outputs": [],
   "source": [
    "!git clone https://github.com/hsjeong5/MNIST-for-Numpy.git\n",
    "!mv ./MNIST-for-Numpy/mnist.py ./mnist.py\n",
    "import mnist\n",
    "mnist.init()\n",
    "x_train, y_train, x_test, y_test = mnist.load()"
   ]
  },
  {
   "cell_type": "markdown",
   "metadata": {
    "colab_type": "text",
    "deletable": false,
    "editable": false,
    "id": "DOGb47wm_Cz7",
    "nbgrader": {
     "cell_type": "markdown",
     "checksum": "71ceaf76ade276dad814ddf541407cea",
     "grade": false,
     "grade_id": "cell-655bc4b54e585eef",
     "locked": true,
     "schema_version": 3,
     "solution": false,
     "task": false
    }
   },
   "source": [
    "2. Next check that the shapes of the training and test data are what you expext."
   ]
  },
  {
   "cell_type": "code",
   "execution_count": null,
   "metadata": {
    "colab": {},
    "colab_type": "code",
    "deletable": false,
    "id": "Hx6Yqm80_Cz7",
    "nbgrader": {
     "cell_type": "code",
     "checksum": "bf72dc7b126b4822823dda89e2651990",
     "grade": true,
     "grade_id": "cell-67f8be678bb72756",
     "locked": false,
     "points": 0,
     "schema_version": 3,
     "solution": true,
     "task": false
    }
   },
   "outputs": [],
   "source": [
    "# YOUR CODE HERE\n",
    "raise NotImplementedError()"
   ]
  },
  {
   "cell_type": "markdown",
   "metadata": {
    "colab_type": "text",
    "deletable": false,
    "editable": false,
    "id": "lmhztu8w_Cz-",
    "nbgrader": {
     "cell_type": "markdown",
     "checksum": "3d1b38f36320b065237157ef849dfeb5",
     "grade": false,
     "grade_id": "cell-fb976918d0bc982f",
     "locked": true,
     "schema_version": 3,
     "solution": false,
     "task": false
    }
   },
   "source": [
    "3. Get a feel for the dataset by viewing some images."
   ]
  },
  {
   "cell_type": "code",
   "execution_count": null,
   "metadata": {
    "colab": {},
    "colab_type": "code",
    "deletable": false,
    "id": "ecSEcD82_Cz-",
    "nbgrader": {
     "cell_type": "code",
     "checksum": "621c20a3453d0fa9662edcdbe2e2b495",
     "grade": true,
     "grade_id": "cell-d83572104abecf8d",
     "locked": false,
     "points": 0,
     "schema_version": 3,
     "solution": true,
     "task": false
    }
   },
   "outputs": [],
   "source": [
    "# YOUR CODE HERE\n",
    "raise NotImplementedError()"
   ]
  },
  {
   "cell_type": "markdown",
   "metadata": {
    "colab_type": "text",
    "deletable": false,
    "editable": false,
    "id": "jycvYjC8_C0A",
    "nbgrader": {
     "cell_type": "markdown",
     "checksum": "86332b143179cec9ac76fd01592f371f",
     "grade": false,
     "grade_id": "cell-102eb0e8b1b6d593",
     "locked": true,
     "schema_version": 3,
     "solution": false,
     "task": false
    }
   },
   "source": [
    "### Exercise 9: Create a one-hot encoding of the labels"
   ]
  },
  {
   "cell_type": "markdown",
   "metadata": {
    "colab_type": "text",
    "deletable": false,
    "editable": false,
    "id": "07iAfT3F_C0B",
    "nbgrader": {
     "cell_type": "markdown",
     "checksum": "6958f0a74b625623f853017f5a4dc1ab",
     "grade": false,
     "grade_id": "cell-22f82d6261e58de6",
     "locked": true,
     "schema_version": 3,
     "solution": false,
     "task": false
    }
   },
   "source": [
    "`y_train` and `y_test` currently contain the digits 0-9, which is not suited for training as we want to perform a 10-class classification training on our network. To fix this, we need to perform a so-called one-hot encoding on the labels which convert each digit into a vector of length 10 full of zeros, except the element corresponding to the digit which should be 1.  For example, if our label is 3, then the corresponding one-hot encoding is [0, 0, 0, 1, 0, 0, 0, 0, 0, 0].\n",
    "\n",
    "1. Convert the `y_train` and `y_test` vectors into one-hot encodings."
   ]
  },
  {
   "cell_type": "code",
   "execution_count": null,
   "metadata": {
    "colab": {},
    "colab_type": "code",
    "deletable": false,
    "id": "Cbji5mMI_C0D",
    "nbgrader": {
     "cell_type": "code",
     "checksum": "abc96a218362a36dbd7e5f69e71095fe",
     "grade": true,
     "grade_id": "cell-f3542df3b7808c77",
     "locked": false,
     "points": 0,
     "schema_version": 3,
     "solution": true,
     "task": false
    }
   },
   "outputs": [],
   "source": [
    "# YOUR CODE HERE\n",
    "raise NotImplementedError()"
   ]
  },
  {
   "cell_type": "markdown",
   "metadata": {
    "colab_type": "text",
    "deletable": false,
    "editable": false,
    "id": "2m0XRWBV_C0G",
    "nbgrader": {
     "cell_type": "markdown",
     "checksum": "17cd93c98ddc52e9de07581e4cc5a661",
     "grade": false,
     "grade_id": "cell-6643c0869bd1da0a",
     "locked": true,
     "schema_version": 3,
     "solution": false,
     "task": false
    }
   },
   "source": [
    "### Exercise 10: Train a network to recognize digits\n",
    "\n",
    "1. Implement the cross-entropy loss function below."
   ]
  },
  {
   "cell_type": "code",
   "execution_count": null,
   "metadata": {
    "colab": {},
    "colab_type": "code",
    "id": "m0g-NQxS_C0I"
   },
   "outputs": [],
   "source": [
    "class CrossEntropy:\n",
    "\n",
    "    @staticmethod\n",
    "    def __call__(y_pred, y):\n",
    "        pass\n",
    "    \n",
    "    @staticmethod\n",
    "    def derivative(y_pred, y):\n",
    "        pass"
   ]
  },
  {
   "cell_type": "code",
   "execution_count": null,
   "metadata": {
    "deletable": false,
    "editable": false,
    "nbgrader": {
     "cell_type": "code",
     "checksum": "dd2ac9d521dbe5e19014fa64297b2bec",
     "grade": true,
     "grade_id": "cell-b10f0e7a88e43e57",
     "locked": true,
     "points": 0,
     "schema_version": 3,
     "solution": false,
     "task": false
    }
   },
   "outputs": [],
   "source": []
  },
  {
   "cell_type": "markdown",
   "metadata": {
    "colab_type": "text",
    "deletable": false,
    "editable": false,
    "id": "YIgJRtRj_C0M",
    "nbgrader": {
     "cell_type": "markdown",
     "checksum": "4d38e143845458b767d3ff5f74a25b9d",
     "grade": false,
     "grade_id": "cell-bbf461afaed81e3f",
     "locked": true,
     "schema_version": 3,
     "solution": false,
     "task": false
    }
   },
   "source": [
    "2. Train a model with 1 hidden layers of 30 nodes each, using sigmoidal activations and a cross-entropy loss."
   ]
  },
  {
   "cell_type": "code",
   "execution_count": null,
   "metadata": {
    "colab": {},
    "colab_type": "code",
    "deletable": false,
    "id": "-piflCMb_C0N",
    "nbgrader": {
     "cell_type": "code",
     "checksum": "c7950591b818805dee1a3885137fedff",
     "grade": true,
     "grade_id": "cell-56ed8b574c919936",
     "locked": false,
     "points": 0,
     "schema_version": 3,
     "solution": true,
     "task": false
    }
   },
   "outputs": [],
   "source": [
    "# YOUR CODE HERE\n",
    "raise NotImplementedError()"
   ]
  },
  {
   "cell_type": "code",
   "execution_count": null,
   "metadata": {
    "colab": {},
    "colab_type": "code",
    "deletable": false,
    "id": "b9uTukZR_C0P",
    "nbgrader": {
     "cell_type": "code",
     "checksum": "d02421724516df9335e4cd9e85217fd7",
     "grade": true,
     "grade_id": "cell-b468730447b2a263",
     "locked": false,
     "points": 0,
     "schema_version": 3,
     "solution": true,
     "task": false
    }
   },
   "outputs": [],
   "source": [
    "# YOUR CODE HERE\n",
    "raise NotImplementedError()"
   ]
  },
  {
   "cell_type": "markdown",
   "metadata": {
    "colab_type": "text",
    "deletable": false,
    "editable": false,
    "id": "2fwDAYxw_C0T",
    "nbgrader": {
     "cell_type": "markdown",
     "checksum": "0de42e42618de7668a865bbd2c6a397d",
     "grade": false,
     "grade_id": "cell-5746671ea9e7d9ea",
     "locked": true,
     "schema_version": 3,
     "solution": false,
     "task": false
    }
   },
   "source": [
    "3. Compute the accuracy of the model on the test data and compare a few predictions to their images."
   ]
  },
  {
   "cell_type": "code",
   "execution_count": null,
   "metadata": {
    "colab": {},
    "colab_type": "code",
    "deletable": false,
    "id": "6T0gWj6M_C0T",
    "nbgrader": {
     "cell_type": "code",
     "checksum": "3fc755322edbc65c9999f6b59cce0530",
     "grade": true,
     "grade_id": "cell-7c906940128eb844",
     "locked": false,
     "points": 0,
     "schema_version": 3,
     "solution": true,
     "task": false
    }
   },
   "outputs": [],
   "source": [
    "# YOUR CODE HERE\n",
    "raise NotImplementedError()"
   ]
  },
  {
   "cell_type": "markdown",
   "metadata": {
    "colab_type": "text",
    "deletable": false,
    "editable": false,
    "id": "IgiX6J1Z_C0W",
    "nbgrader": {
     "cell_type": "markdown",
     "checksum": "53d1097f56815c05f5025b9371e25e6f",
     "grade": false,
     "grade_id": "cell-4f506ddb2ed5d1f5",
     "locked": true,
     "schema_version": 3,
     "solution": false,
     "task": false
    }
   },
   "source": [
    "## Extra\n",
    "\n",
    "At this point you have a fully functioning neural network model which can be used in real machine-learning problems.  There are many things which you could add at this point to make the model more effective.  Consider playing with some of the following:\n",
    "\n",
    "- Adding weight regularization\n",
    "- Using different activation functions such as ReLU or Tanh\n",
    "- Improve the efficiency by making the backprop algorithm work on whole batches at once\n",
    "- Implement the SGD algorithm\n",
    "- Redesign the model to allow plug-and-play layers to be stacked together, allowing more complicated layers such as convolutions to be used.\n",
    "\n",
    "Of course the list is endless, just have fun!"
   ]
  }
 ],
 "metadata": {
  "colab": {
   "name": "Copie de Lab6.ipynb",
   "provenance": [
    {
     "file_id": "https://github.com/jbscoggi/teaching/blob/master/Polytechnique/CSE204/Lab6.ipynb",
     "timestamp": 1576227403767
    }
   ]
  },
  "kernelspec": {
   "display_name": "Python 3",
   "language": "python",
   "name": "python3"
  },
  "language_info": {
   "codemirror_mode": {
    "name": "ipython",
    "version": 3
   },
   "file_extension": ".py",
   "mimetype": "text/x-python",
   "name": "python",
   "nbconvert_exporter": "python",
   "pygments_lexer": "ipython3",
   "version": "3.7.5"
  }
 },
 "nbformat": 4,
 "nbformat_minor": 4
}
