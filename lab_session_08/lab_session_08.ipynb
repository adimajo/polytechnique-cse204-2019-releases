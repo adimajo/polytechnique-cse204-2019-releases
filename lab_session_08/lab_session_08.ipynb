{
 "cells": [
  {
   "cell_type": "markdown",
   "metadata": {},
   "source": [
    "Before you turn this problem in, make sure everything runs as expected. First, **restart the kernel** (in the menubar, select Kernel$\\rightarrow$Restart) and then **run all cells** (in the menubar, select Cell$\\rightarrow$Run All).\n",
    "\n",
    "Make sure you fill in any place that says `YOUR CODE HERE` or \"YOUR ANSWER HERE\", as well as your name and collaborators below:"
   ]
  },
  {
   "cell_type": "code",
   "execution_count": null,
   "metadata": {},
   "outputs": [],
   "source": [
    "NAME = \"\"\n",
    "COLLABORATORS = \"\""
   ]
  },
  {
   "cell_type": "markdown",
   "metadata": {},
   "source": [
    "---"
   ]
  },
  {
   "cell_type": "markdown",
   "metadata": {
    "colab_type": "text",
    "deletable": false,
    "editable": false,
    "id": "1KwUkkSB8_mG",
    "nbgrader": {
     "cell_type": "markdown",
     "checksum": "db16393cf98e301ca352660de6afc3bd",
     "grade": false,
     "grade_id": "cell-e9d9c8bdde5b0bfb",
     "locked": true,
     "schema_version": 3,
     "solution": false,
     "task": false
    }
   },
   "source": [
    "# CSE204 - Introduction to Machine Learning - Lab Session 8: Classification of the CIFAR-10 dataset using CNNs\n",
    "\n",
    "<img src=\"https://raw.githubusercontent.com/adimajo/polytechnique-cse204-2019-releases/master/logo.jpg\" style=\"float: left; width: 15%\" />\n",
    "\n",
    "[CSE204-2019](https://moodle.polytechnique.fr/course/view.php?id=7862) Lab session #08\n",
    "\n",
    "J.B. Scoggins - Adrien Ehrhardt"
   ]
  },
  {
   "cell_type": "markdown",
   "metadata": {
    "deletable": false,
    "editable": false,
    "nbgrader": {
     "cell_type": "markdown",
     "checksum": "c4fa7b3fd60d016c304c93b9417b86fb",
     "grade": false,
     "grade_id": "cell-cd3b44b475f6a307",
     "locked": true,
     "schema_version": 3,
     "solution": false,
     "task": false
    }
   },
   "source": [
    "[![Open in Google Colab](https://colab.research.google.com/assets/colab-badge.svg)](https://colab.research.google.com/github/adimajo/polytechnique-cse204-2019-releases/blob/master/lab_session_08/lab_session_08.ipynb)\n",
    "\n",
    "[![My Binder](https://mybinder.org/badge_logo.svg)](https://mybinder.org/v2/gh/adimajo/polytechnique-cse204-2019-releases/master?filepath=lab_session_08%2Flab_session_08.ipynb)\n",
    "\n",
    "[![Local](https://img.shields.io/badge/Local-Save%20As...-blue)](https://github.com/adimajo/polytechnique-cse204-2019-releases/raw/master/lab_session_08/lab_session_08.ipynb)"
   ]
  },
  {
   "cell_type": "markdown",
   "metadata": {
    "deletable": false,
    "editable": false,
    "nbgrader": {
     "cell_type": "markdown",
     "checksum": "87bcb35354849245629f5d930f88ad0a",
     "grade": false,
     "grade_id": "cell-604c8e2a06fad93c",
     "locked": true,
     "schema_version": 3,
     "solution": false,
     "task": false
    }
   },
   "source": [
    "The [CIFAR-10 dataset](https://www.cs.toronto.edu/~kriz/cifar.html) provides 60000 32x32-pixel images, classified into 10 categories.  The figure below provides a random sample of some images in each category.\n",
    "\n",
    "![](https://github.com/jbscoggi/teaching/blob/master/Polytechnique/CSE204/artwork/cifar_images.png?raw=1)\n",
    "\n",
    "During this session, you will learn how to build a Convolutional Neural Network (CNN), which (when trained) will be able to automatically classify new images into one of these categories.  We will make use of the [Keras library](https://www.tensorflow.org/guide/keras) which provides a high-level interface to TensorFlow, which you have already seen.\n",
    "\n",
    "## Introduction to Keras\n",
    "\n",
    "Keras is a high-level API to build and train deep learning models. It's used for fast prototyping, advanced research, and production, with three key advantages:\n",
    "\n",
    "- __User friendly__: Keras has a simple, consistent interface optimized for common use cases. It provides clear and actionable feedback for user errors.\n",
    "- __Modular and composable__: Keras models are made by connecting configurable building blocks together, with few restrictions.\n",
    "- __Easy to extend__: Write custom building blocks to express new ideas for research. Create new layers, loss functions, and develop state-of-the-art models.\n",
    "\n",
    "In Keras, models are built by assymbling multiple layers.  Suppose we want to create a new multilayer perceptron model to categorize 128-feature data into 10 labeled categories.  The Keras code could look like:\n",
    "\n",
    "```python\n",
    "# Create a sequential model\n",
    "model = tf.keras.Sequential()\n",
    "# Adds a densely-connected layer with 64 units to the model\n",
    "model.add(layers.Dense(64, activation='relu'), input_shape=[128])\n",
    "# Add another\n",
    "model.add(layers.Dense(32, activation='relu'))\n",
    "# Add a softmax layer with 10 output units\n",
    "model.add(layers.Dense(10, activation='softmax'))\n",
    "```\n",
    "\n",
    "The `input_shape` argument must be given for the first layer in the model, however all other layers will automatically determine the input shape based on the previous layer in the model.  Note that the code above is substantially simpler than the corresponding TensorFlow code.  This is particular useful for building convolutional or other types of layers, as we will see.\n",
    "\n",
    "Once built, a model's learning can be configured with the `compile()` function\n",
    "\n",
    "```python\n",
    "model.compile(\n",
    "    loss='categorical_crossentropy', \n",
    "    optimizer=tf.train.AdamOptimizer(0.001), \n",
    "    metrics=['accuracy'])\n",
    "```\n",
    "\n",
    "In this case, a cross-entropy loss function is used with the ADAM optimization algorithm.  The `metrics` argument allows the model to keep track of a number of [training metrics](https://www.tensorflow.org/api_docs/python/tf/keras/metrics) during training.\n",
    "\n",
    "Once configured, training is performed using the `fit()` function.\n",
    "\n",
    "```python\n",
    "model.fit(data, labels, epochs=10, batch_size=32)\n",
    "```\n",
    "\n",
    "The function takes an array-like (could be numpy array) of data and the corresponding target values, and performs the optimization of the learnable parameters in the model.  See the documentation for the [fit()](https://www.tensorflow.org/api_docs/python/tf/keras/models/Model#fit) function for more details.\n",
    "\n",
    "Once trained, the model can be used to predict, using the `predict()` function. \n",
    "\n",
    "```python\n",
    "prediction = model.predict(new_data)\n",
    "```\n",
    "  \n",
    "## Tasks\n",
    "Begin by importing the necessary modules."
   ]
  },
  {
   "cell_type": "code",
   "execution_count": null,
   "metadata": {
    "deletable": false,
    "editable": false,
    "nbgrader": {
     "cell_type": "code",
     "checksum": "8a4d57aaa9d72fb8527897658dd34acc",
     "grade": false,
     "grade_id": "cell-a0409262ad63e655",
     "locked": true,
     "schema_version": 3,
     "solution": false,
     "task": false
    }
   },
   "outputs": [],
   "source": [
    "colab_requirements = [\n",
    "    \"matplotlib>=3.1.2\",\n",
    "    \"pandas>=0.25.3\",\n",
    "    \"numpy>=1.18.1\",\n",
    "    \"scikit-learn>=0.22.1\",\n",
    "    \"nose>=1.3.7\",\n",
    "    \"tensorflow>=2.1.0\"\n",
    "]\n",
    "import sys, subprocess\n",
    "def run_subprocess_command(cmd):\n",
    "    # run the command\n",
    "    process = subprocess.Popen(cmd.split(), stdout=subprocess.PIPE)\n",
    "    # print the output\n",
    "    for line in process.stdout:\n",
    "        print(line.decode().strip())\n",
    "        \n",
    "if \"google.colab\" in sys.modules:\n",
    "    for i in colab_requirements:\n",
    "        run_subprocess_command(\"pip install \" + i)"
   ]
  },
  {
   "cell_type": "code",
   "execution_count": null,
   "metadata": {
    "colab": {},
    "colab_type": "code",
    "deletable": false,
    "editable": false,
    "id": "SO3zr_ZP8_mI",
    "nbgrader": {
     "cell_type": "code",
     "checksum": "fad63d51d30ea3c64e1d7d57ed34fd52",
     "grade": false,
     "grade_id": "cell-7e885051ffd05fe9",
     "locked": true,
     "schema_version": 3,
     "solution": false,
     "task": false
    }
   },
   "outputs": [],
   "source": [
    "import tensorflow as tf\n",
    "from tensorflow import keras\n",
    "import numpy as np\n",
    "import matplotlib.pyplot as plt\n",
    "from tensorflow.keras.layers import Dense, Flatten, Activation\n",
    "from tensorflow.keras.layers import Conv2D, MaxPooling2D\n",
    "from tensorflow.keras.layers import Dropout, BatchNormalization\n",
    "from tensorflow.keras.optimizers import SGD"
   ]
  },
  {
   "cell_type": "markdown",
   "metadata": {
    "colab_type": "text",
    "deletable": false,
    "editable": false,
    "id": "3F9ew2xG8_mP",
    "nbgrader": {
     "cell_type": "markdown",
     "checksum": "7c3ecef1c9c80683b3aa18e94b37c5f2",
     "grade": false,
     "grade_id": "cell-de45a86f731b71b9",
     "locked": true,
     "schema_version": 3,
     "solution": false,
     "task": false
    }
   },
   "source": [
    "### Understand the dataset\n",
    "\n",
    "Understanding your dataset is the first prerequisit to training any model.  The CIFAR-10 dataset is provided directly from Keras.  \n",
    "- Download the dataset. See [`tf.keras.datasets`](https://keras.io/datasets/) for how to download the data, and what format it is provided.  Note that the dataset is already divided into a training set of 50000 images, and a test set of 10000.\n",
    "- Verify that the shape of the image and target arrays are what you expect.\n",
    "- Create a list of labels corresponding to the 10 categories.  This will be used to convert the 0-9 digits in the target arrays to string labels. The categories are labeled as follows\n",
    "  0. airplane\n",
    "  1. automobile\n",
    "  2. bird\n",
    "  3. cat\n",
    "  4. deer\n",
    "  5. dog\n",
    "  6. frog\n",
    "  7. horse\n",
    "  8. ship\n",
    "  9. truck\n",
    "- Visualize some images in each category using the `imshow()` function in `matplotlib.pyplot`.  Can you recreate the figure at the top?  Hint: the top figure was created using the first 8 images belonging to each category in the training data.\n",
    "- Normalize the image data from [0,255] to be [0,1].  Normalizing improves model training.  (to test this, you can comment out the normalization later)\n",
    "- Lastly, convert the target arrays to one-hot encodings.  Hint: checkout the [`tf.keras.utils.to_categorical()`](https://www.tensorflow.org/api_docs/python/tf/keras/utils/to_categorical)"
   ]
  },
  {
   "cell_type": "code",
   "execution_count": null,
   "metadata": {
    "colab": {},
    "colab_type": "code",
    "deletable": false,
    "id": "ZPrBb3168_mU",
    "nbgrader": {
     "cell_type": "code",
     "checksum": "dbbc82390ad20ae87329d0b4220255e8",
     "grade": false,
     "grade_id": "cell-ec7266ee72d2f46b",
     "locked": false,
     "schema_version": 3,
     "solution": true,
     "task": false
    }
   },
   "outputs": [],
   "source": [
    "def load_cifar_data():\n",
    "    \"\"\"\n",
    "    Loads the CIFAR-10 dataset using Keras and preprocess for training.\n",
    "    \"\"\"\n",
    "    # YOUR CODE HERE\n",
    "    raise NotImplementedError()\n",
    "    return x_train, y_train, x_test, y_test, labels"
   ]
  },
  {
   "cell_type": "code",
   "execution_count": null,
   "metadata": {
    "deletable": false,
    "editable": false,
    "nbgrader": {
     "cell_type": "code",
     "checksum": "b9a10e5c5833051c567ae5b6ee0f4e62",
     "grade": true,
     "grade_id": "cell-5008595c2476583f",
     "locked": true,
     "points": 0,
     "schema_version": 3,
     "solution": false,
     "task": false
    }
   },
   "outputs": [],
   "source": [
    "x_train, y_train, x_test, y_test, labels = load_cifar_data()"
   ]
  },
  {
   "cell_type": "code",
   "execution_count": null,
   "metadata": {
    "deletable": false,
    "nbgrader": {
     "cell_type": "code",
     "checksum": "859ce2eb755afff21be8ed62a1bb52b0",
     "grade": false,
     "grade_id": "cell-d69cddf65aa51bf7",
     "locked": false,
     "schema_version": 3,
     "solution": true,
     "task": false
    }
   },
   "outputs": [],
   "source": [
    "# Visualize the dataset\n",
    "def show_first_n_images_in_categories(n, images, categories, labels, file_name=None):\n",
    "    \"\"\"Plots the first n images in each category from the image data.\"\"\"\n",
    "    f, axes = plt.subplots(n, 10, figsize=(11,8))\n",
    "    # YOUR CODE HERE\n",
    "    raise NotImplementedError()"
   ]
  },
  {
   "cell_type": "code",
   "execution_count": null,
   "metadata": {
    "deletable": false,
    "editable": false,
    "nbgrader": {
     "cell_type": "code",
     "checksum": "e6fca87cc6f886e900f8fa46345f5e1e",
     "grade": true,
     "grade_id": "cell-0cc173459e25096d",
     "locked": true,
     "points": 0,
     "schema_version": 3,
     "solution": false,
     "task": false
    }
   },
   "outputs": [],
   "source": [
    "show_first_n_images_in_categories(8, x_train, y_train, labels)"
   ]
  },
  {
   "cell_type": "markdown",
   "metadata": {
    "colab_type": "text",
    "deletable": false,
    "editable": false,
    "id": "PsCeYamv8_mY",
    "nbgrader": {
     "cell_type": "markdown",
     "checksum": "d16fd4f061549ca524b0acbb03f92947",
     "grade": false,
     "grade_id": "cell-5808a9d64e168a22",
     "locked": true,
     "schema_version": 3,
     "solution": false,
     "task": false
    }
   },
   "source": [
    "### First naive model\n",
    "\n",
    "In order to better understand the importance of CNNs, it is instructive to first see how well a naive dense network performs on the dataset.\n",
    "\n",
    "- Create a sequential model with 4 `Dense` hidden layers of 2048, 1024, 512, and 256 nodes each, with ReLU activation, and a linear output layer of 10 nodes.  Note that you will need to use the `Flatten` layer first in order to convert the 3D (x, y, rgb) image data into 1D.\n",
    "- Compute by hand the total number of trainable parameters (weights and biases) in the model.\n",
    "- Compile the model with a `categorical_crossentropy` loss, using the SGD optimizer, including the `accuracy` metric.\n",
    "- Use the `summary()` function on model to get a text summary of the model.  Did you compute the number of parameters correctly?\n",
    "- Train the model:\n",
    "  - Start with small batch size of 32 and train for 10 epochs\n",
    "  - Use early stopping on the validation accuracy with a patience of 2\n",
    "- How does the model perform? Is it any better than a random guess? \n",
    "- Try changing the batch size to see if there is any improvement.\n",
    "- Try adding batch normalization after each hidden layer.  Any better?"
   ]
  },
  {
   "cell_type": "code",
   "execution_count": null,
   "metadata": {
    "colab": {},
    "colab_type": "code",
    "deletable": false,
    "id": "y77TwOfJ8_mZ",
    "nbgrader": {
     "cell_type": "code",
     "checksum": "afd4ba89421e411106128138551c7912",
     "grade": false,
     "grade_id": "cell-a0ccef54e79d4305",
     "locked": false,
     "schema_version": 3,
     "solution": true,
     "task": false
    }
   },
   "outputs": [],
   "source": [
    "def dense_model(input_shape, num_classes):\n",
    "    #model = ...\n",
    "    # YOUR CODE HERE\n",
    "    raise NotImplementedError()\n",
    "    # model.compile(...)\n",
    "    # YOUR CODE HERE\n",
    "    raise NotImplementedError()\n",
    "    return model"
   ]
  },
  {
   "cell_type": "code",
   "execution_count": null,
   "metadata": {
    "deletable": false,
    "editable": false,
    "nbgrader": {
     "cell_type": "code",
     "checksum": "dee3a647775a1b2ab781a59afdc729c3",
     "grade": true,
     "grade_id": "cell-6c728fd41d77b7cf",
     "locked": true,
     "points": 0,
     "schema_version": 3,
     "solution": false,
     "task": false
    }
   },
   "outputs": [],
   "source": [
    "model = dense_model(x_train.shape[1:], 10)\n",
    "model.summary()"
   ]
  },
  {
   "cell_type": "code",
   "execution_count": null,
   "metadata": {
    "deletable": false,
    "nbgrader": {
     "cell_type": "code",
     "checksum": "462ec21d73d76688d411e9c5809c0724",
     "grade": false,
     "grade_id": "cell-cfcdbdb7c09412d9",
     "locked": false,
     "schema_version": 3,
     "solution": true,
     "task": false
    }
   },
   "outputs": [],
   "source": [
    "def train_model(model, x, y, x_test, y_test, batch_size=128, epochs=10):\n",
    "    \"\"\"\n",
    "    Trains the model on the given data.\n",
    "    \"\"\"\n",
    "    # ...\n",
    "    # ret = model.fit(...\n",
    "    # YOUR CODE HERE\n",
    "    raise NotImplementedError()\n",
    "    return(ret)"
   ]
  },
  {
   "cell_type": "code",
   "execution_count": null,
   "metadata": {
    "deletable": false,
    "editable": false,
    "nbgrader": {
     "cell_type": "code",
     "checksum": "ec5add796e68449b3f9d9696d2882359",
     "grade": true,
     "grade_id": "cell-f51b59db86707d32",
     "locked": true,
     "points": 0,
     "schema_version": 3,
     "solution": false,
     "task": false
    }
   },
   "outputs": [],
   "source": [
    "# Computationally heavy\n",
    "# ret = train_model(model, x_train, y_train, x_test, y_test)"
   ]
  },
  {
   "cell_type": "markdown",
   "metadata": {
    "colab_type": "text",
    "deletable": false,
    "editable": false,
    "id": "VvfclibF8_me",
    "nbgrader": {
     "cell_type": "markdown",
     "checksum": "1c9523d04dc35e7bce7b839abe298967",
     "grade": false,
     "grade_id": "cell-fedb257c77a93d0a",
     "locked": true,
     "schema_version": 3,
     "solution": false,
     "task": false
    }
   },
   "source": [
    "### Convolutional Net\n",
    "\n",
    "Convolutional neural networks allow us to do drastically better on this dataset (and many image classification problems in general).  In this task, you will build your first convolutional network and see how it performs during training.\n",
    "\n",
    "- Create a new model with the following layers\n",
    "  - 3x3 2D convolution with zero padding (same), 32 filters\n",
    "  - ReLU activation\n",
    "  - 3,3 2D convolution, no padding, 32 filters\n",
    "  - ReLU activation\n",
    "  - Max pooling with size (2,2)\n",
    "  - 3x3 2D convolution, no padding, 64 filters\n",
    "  - ReLU activation\n",
    "  - 3x3 2D convolution, no padding, 64 filters\n",
    "  - ReLU activation\n",
    "  - Max pooling with size (2,2)\n",
    "  - Flatten\n",
    "  - Dense layer with 512 nodes, ReLU activation\n",
    "  - Softmax output layer with 10 nodes\n",
    "- Compile the network with same optimizer and metrics as the dense network.\n",
    "- Compute by hand the number of trainable parameters in this network.  Are there more or less than the more simple dense network?  Why?  Confirm with `summary()`.\n",
    "- Use the same training procedure as before for 10 epochs and batch size of 32.\n",
    "- How does the validation accuracy change with each epoch?\n",
    "- Increase the batch size to 64 and retrain.  Better or worse?  Try 128 as well.  How does increasin the batch size improve the training?\n",
    "- Note how the validation accuracy begins to decrease at some point, while the training accuracy continues to increase.  What is this phenomena called?  Try adding 3 dropout layers to the model, one before each max pooling layer and one before the last layer, using a dropout ratio of 0.25.  Does this improve over-fitting?\n",
    "- Play with batch normalization.  For example, add batch normalization layers after each dropout layer.  Do you notice a faster increase in the model improvement? Why?\n",
    "  "
   ]
  },
  {
   "cell_type": "code",
   "execution_count": null,
   "metadata": {
    "colab": {},
    "colab_type": "code",
    "deletable": false,
    "id": "hczfh5fO8_mf",
    "nbgrader": {
     "cell_type": "code",
     "checksum": "213a14aeab0503f4b238aa101a9815c7",
     "grade": false,
     "grade_id": "cell-fea804af641a7390",
     "locked": false,
     "schema_version": 3,
     "solution": true,
     "task": false
    }
   },
   "outputs": [],
   "source": [
    "def cnn_model(input_shape, num_classes):\n",
    "    # model = ...\n",
    "    # YOUR CODE HERE\n",
    "    raise NotImplementedError()\n",
    "    # model.compile(...)\n",
    "    # YOUR CODE HERE\n",
    "    raise NotImplementedError()\n",
    "    return(model)"
   ]
  },
  {
   "cell_type": "code",
   "execution_count": null,
   "metadata": {},
   "outputs": [],
   "source": [
    "# Create and train model\n",
    "model = cnn_model(x_train.shape[1:], 10)\n",
    "model.summary()\n",
    "# Computationally heavy\n",
    "# ret = train_model(model, x_train, y_train, x_test, y_test)"
   ]
  },
  {
   "cell_type": "markdown",
   "metadata": {
    "colab_type": "text",
    "deletable": false,
    "editable": false,
    "id": "QygWsiUp8_mj",
    "nbgrader": {
     "cell_type": "markdown",
     "checksum": "fffc717b205a7455c6d72f052e598841",
     "grade": false,
     "grade_id": "cell-3b7edf87b24fb30c",
     "locked": true,
     "schema_version": 3,
     "solution": false,
     "task": false
    }
   },
   "source": [
    "### Make some predictions\n",
    "\n",
    "Assuming all went well during the previous tasks, you can now predict the category of a new image!  Here are a few examples of my predictions:\n",
    "\n",
    "![predictions.png](attachment:predictions.png)\n",
    "\n",
    "- Use `predict` on your trained model to test its prediction on a few example images.  You can use images taken from the test dataset, as these were not used to train your model.  Hint: at this point, it is probably convenient to use the `save` and `load_model` functions from Keras.  You can save the model after training it, and then decide to load from saved file instead of building a new one (if available) on successive runs.\n",
    "- Using `imshow` and `hbar` from `matplotlib.pyplot`, try to recreate the image above for a few example images."
   ]
  },
  {
   "cell_type": "code",
   "execution_count": null,
   "metadata": {
    "colab": {},
    "colab_type": "code",
    "deletable": false,
    "id": "aO7ex6v68_mk",
    "nbgrader": {
     "cell_type": "code",
     "checksum": "2345e3118f7cec7a3edc265374227c70",
     "grade": false,
     "grade_id": "cell-c4a83c675143a3e2",
     "locked": false,
     "schema_version": 3,
     "solution": true,
     "task": false
    }
   },
   "outputs": [],
   "source": [
    "def predict(model, x, labels, file_name=None):\n",
    "    \"\"\"\n",
    "        Plots the figures for which we want to predict the class alongside\n",
    "        the predicted probabilities of each class.\n",
    "    \"\"\"\n",
    "    # YOUR CODE HERE\n",
    "    raise NotImplementedError()"
   ]
  },
  {
   "cell_type": "code",
   "execution_count": null,
   "metadata": {},
   "outputs": [],
   "source": [
    "# Prediction of images 3-7\n",
    "# predict(model, x_test[3:8,:,:,:], labels)"
   ]
  },
  {
   "cell_type": "markdown",
   "metadata": {
    "colab_type": "text",
    "deletable": false,
    "editable": false,
    "id": "2S1bkXZF8_mm",
    "nbgrader": {
     "cell_type": "markdown",
     "checksum": "633f47d51a293a5c419d981938f08255",
     "grade": false,
     "grade_id": "cell-afeff2eb67999bb0",
     "locked": true,
     "schema_version": 3,
     "solution": false,
     "task": false
    }
   },
   "source": [
    "- Create a _confusion matrix_. A confusion matrix is often used in supervised learning to understand how well (or not) each category is being classified.  Each element (i,j) in the confusion matrix represents the predicted class j for each true class i.  Consider the following 10 predictions for a 2 category model predicting male or female.\n",
    "\n",
    "| example     | true category  | predicted category  |\n",
    "|-------------|----------------|---------------------|\n",
    "| 1           | male           | male                |\n",
    "| 2           | female         | male                |\n",
    "| 3           | female         | female              |\n",
    "| 4           | male           | male                |\n",
    "| 5           | male           | female              |\n",
    "| 6           | male           | male                |\n",
    "| 7           | female         | female              |\n",
    "| 8           | male           | female              |\n",
    "| 9           | female         | female              |\n",
    "| 10          | female         | female              |\n",
    "\n",
    "Based on the above data, the model is accurate 70% of the time.  The confusion matrix is\n",
    "\n",
    "|        | male | female |\n",
    "|--------|------|--------|\n",
    "| male   | 3    | 2      |\n",
    "| female | 1    | 4      |\n",
    "\n",
    "The confusion matrix gives us more information than a simple accuracy measurement.  In this case, we see that the class female has a higher accuracy over male.  Create the confusion matrix the CIFAR-10 dataset using the test data.  What does it tell you about the relationships between each class?"
   ]
  },
  {
   "cell_type": "code",
   "execution_count": null,
   "metadata": {
    "colab": {},
    "colab_type": "code",
    "deletable": false,
    "id": "pw_2A36S8_mn",
    "nbgrader": {
     "cell_type": "code",
     "checksum": "87c0b591dc0a725e23f96ffbf99c4508",
     "grade": false,
     "grade_id": "cell-80a631a88016e228",
     "locked": false,
     "schema_version": 3,
     "solution": true,
     "task": false
    }
   },
   "outputs": [],
   "source": [
    "# YOUR CODE HERE\n",
    "raise NotImplementedError()"
   ]
  },
  {
   "cell_type": "markdown",
   "metadata": {
    "colab_type": "text",
    "deletable": false,
    "editable": false,
    "id": "Faf-wA3N8_mp",
    "nbgrader": {
     "cell_type": "markdown",
     "checksum": "0267e89e4fb846f62ca497b5d4257ce0",
     "grade": false,
     "grade_id": "cell-55ea6ff02c3ade36",
     "locked": true,
     "schema_version": 3,
     "solution": false,
     "task": false
    }
   },
   "source": [
    "## Further exercises \n",
    "\n",
    "- Try training on additional datasets available with Keras.  For example, the MNIST data (hand-written digits) will require virtually no code changes to solve.\n",
    "- Play with different CNN architectures.  Can you beat the performance of the net used in this lab?"
   ]
  }
 ],
 "metadata": {
  "colab": {
   "name": "Copie de Lab8.ipynb",
   "provenance": [
    {
     "file_id": "https://github.com/jbscoggi/teaching/blob/master/Polytechnique/CSE204/Lab8.ipynb",
     "timestamp": 1576227396884
    }
   ]
  },
  "kernelspec": {
   "display_name": "Python (cse204)",
   "language": "python",
   "name": "cse204"
  },
  "language_info": {
   "codemirror_mode": {
    "name": "ipython",
    "version": 3
   },
   "file_extension": ".py",
   "mimetype": "text/x-python",
   "name": "python",
   "nbconvert_exporter": "python",
   "pygments_lexer": "ipython3",
   "version": "3.6.10"
  }
 },
 "nbformat": 4,
 "nbformat_minor": 4
}
